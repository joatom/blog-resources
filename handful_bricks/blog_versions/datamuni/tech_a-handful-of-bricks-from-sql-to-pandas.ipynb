{
 "cells": [
  {
   "cell_type": "markdown",
   "metadata": {
    "papermill": {
     "duration": 0.058619,
     "end_time": "2020-12-05T11:17:54.431506",
     "exception": false,
     "start_time": "2020-12-05T11:17:54.372887",
     "status": "completed"
    },
    "tags": []
   },
   "source": [
    "\n",
    "# About\n",
    "Coming from a SQL background and entering the world of machine learning I soon stumbled upon Pandas. It is considered a basic skill for data arranging and preprocessing when programming in python. When you are learning python from skretch it is probabily pretty obvious how to use the library. But with an SQL biased mind as mine it might be quite a bit confusing in some places. \n",
    "\n",
    "By now I'm using the library for about two years as part of my ML hobby in my spare time, but I'm still spending a lot of time on stackoverflow to get things done. It's time to digg into Pandas, and recalibrate my awareness how to deal with data. \n",
    "\n",
    "This notebook I translate some common and some advanced techniques from SQL to pandas step-by-step. I didn't just want to write a plain cheat sheet (actually Pandas has a good one to get started: [Comparison SQL](https://pandas.pydata.org/docs/getting_started/comparison/comparison_with_sql.html)). I also wanted to unwind some concepts that might be helpful for a SQL developer who now and then deals deals with pandas.\n",
    "\n",
    "# Technical setup\n",
    "\n",
    "The scripts will load the data into Pandas DataFrames (e.g. `df_colors`) and also into SQL tables (e.g. `colors`). You can choos between **SQLite** (because it's part of the basic python setup) or **BigQuery** (because it's fun to learn something new).\n",
    "The code below is written so you can use either SQL database.  Though you need to make very few changes to the code if you use BigQuery. I marked the code with a `#BQ` or `--BQ` where you have to adjust. \n",
    "\n",
    "These are changes you have to make when using BigQuery:\n",
    "- set the `USE_BIGQUERY` flag to `True`,\n",
    "- uncomment the `<<` in the `%%sql` magic line where SQL output is written to a DataFrame (The notebook overrides the `%%bigquery` magic as `%%sql` so the code doesn't need to be changed any further.).\n",
    "- Connect your google account to the notebook session (in the notebook menu: Add-ons ==> Google Cloud Services).\n",
    "- Set your cloud project_id.\n",
    "\n",
    "Additional changes when running BQ on kaggle:\n",
    "- On the first run %%BIGQUERY didn't work because of credential issues. The next day after restarting the notebook and browser it just worked.\n",
    "- Setting the `default_dataset` on the magic didn't work on kaggle notebooks. So you have to add the dataset in the SQL-code cells to every table (e.g. `colors` --> `lego.colors`).\n",
    "\n",
    "> **Warning !**\n",
    "> \n",
    "> If you use **BigQuery** keep in mind that the scripts might generate costs and you get charged! Don't use it in Production environment or with an account pointing to a Production environment!"
   ]
  },
  {
   "cell_type": "code",
   "execution_count": 1,
   "metadata": {
    "papermill": {
     "duration": 0.06435,
     "end_time": "2020-12-05T11:17:54.550833",
     "exception": false,
     "start_time": "2020-12-05T11:17:54.486483",
     "status": "completed"
    },
    "tags": []
   },
   "outputs": [],
   "source": [
    "# BQ:\n",
    "\n",
    "# Either use BigQuery (True) or SQLite (False)\n",
    "USE_BIGQUERY = False\n",
    "# Set your own gcp project id here\n",
    "BQ_PROJECT = 'XXXXXXXXXXXX'\n",
    "\n",
    "## BigQuery related settings\n",
    "# if using BigQuery, drop and recreate tables (True)\n",
    "RECREATE_BQ_TABLES = True\n",
    "DATASET_ID = 'lego'"
   ]
  },
  {
   "cell_type": "code",
   "execution_count": 2,
   "metadata": {
    "_kg_hide-input": true,
    "_kg_hide-output": true,
    "papermill": {
     "duration": 0.843701,
     "end_time": "2020-12-05T11:17:55.450563",
     "exception": false,
     "start_time": "2020-12-05T11:17:54.606862",
     "status": "completed"
    },
    "tags": []
   },
   "outputs": [
    {
     "name": "stdout",
     "output_type": "stream",
     "text": [
      "main: /home/git_repos/blog-resources/handful_bricks/blog_versions/datamuni/lego.db\n"
     ]
    }
   ],
   "source": [
    "!sqlite3 lego.db .databases .quit"
   ]
  },
  {
   "cell_type": "code",
   "execution_count": 3,
   "metadata": {
    "_kg_hide-input": true,
    "_kg_hide-output": true,
    "papermill": {
     "duration": 0.071389,
     "end_time": "2020-12-05T11:17:55.578903",
     "exception": false,
     "start_time": "2020-12-05T11:17:55.507514",
     "status": "completed"
    },
    "tags": []
   },
   "outputs": [],
   "source": [
    "import sqlite3\n",
    "import sqlalchemy\n",
    "import os\n",
    "import matplotlib.pyplot as plt\n",
    "from PIL import Image\n",
    "from pathlib import Path\n",
    "import pandas as pd\n",
    "import numpy as np\n",
    "# import sql2pandas_config\n",
    "\n",
    "#https://cloud.google.com/bigquery/docs/quickstarts/quickstart-client-libraries\n",
    "from google.cloud import bigquery\n",
    "from google.cloud.bigquery import magics\n",
    "\n",
    "# Path to Google credentials (*.json)\n",
    "# os.environ[\"GOOGLE_APPLICATION_CREDENTIALS\"]=sql2pandas_config.GOOGLE_APPLICATION_CREDENTIALS\n",
    "in_path = Path('../../lego-database')"
   ]
  },
  {
   "cell_type": "code",
   "execution_count": 4,
   "metadata": {
    "_kg_hide-input": true,
    "_kg_hide-output": true,
    "papermill": {
     "duration": 0.092438,
     "end_time": "2020-12-05T11:17:55.728614",
     "exception": false,
     "start_time": "2020-12-05T11:17:55.636176",
     "status": "completed"
    },
    "tags": []
   },
   "outputs": [],
   "source": [
    "# ==== CONFIG ====\n",
    "\n",
    "# sql magic\n",
    "if USE_BIGQUERY:\n",
    "\n",
    "    %load_ext google.cloud.bigquery\n",
    "    # define %%sql as an alias for %%bigquery\n",
    "    %alias_magic sql bigquery\n",
    "\n",
    "else:\n",
    "    # load jupyter extention\n",
    "    %load_ext sql\n",
    "    # disable autocommit\n",
    "    %config SqlMagic.autocommit=False\n",
    "\n",
    "#%matplotlib inline\n",
    "#%pylab inline\n"
   ]
  },
  {
   "cell_type": "code",
   "execution_count": 5,
   "metadata": {
    "_kg_hide-input": true,
    "_kg_hide-output": true,
    "papermill": {
     "duration": 0.072359,
     "end_time": "2020-12-05T11:17:55.859084",
     "exception": false,
     "start_time": "2020-12-05T11:17:55.786725",
     "status": "completed"
    },
    "tags": []
   },
   "outputs": [],
   "source": [
    "# ==== Set up BigQuery ====\n",
    "\n",
    "if USE_BIGQUERY:\n",
    "\n",
    "    client = bigquery.Client(project=BQ_PROJECT) \n",
    "\n",
    "    default_config = bigquery.QueryJobConfig(\n",
    "        default_dataset = f'{BQ_PROJECT}.{DATASET_ID}',\n",
    "        maximum_bytes_billed = 100000000\n",
    "    )\n",
    "    client.default_query_job_config = default_config\n",
    "    \n",
    "    # setting config to the %%sql magic \n",
    "    magics.context.default_query_job_config = default_config\n",
    "    magics.context.project = BQ_PROJECT\n",
    "    \n",
    "    ## if %%bigquery magic is not working try to restart browser and notebook or experiment with:\n",
    "    # https://google-auth.readthedocs.io/en/latest/user-guide.html#obtaining-credentials\n",
    "    #import google.oauth2.credentials\n",
    "    #credentials = google.oauth2.credentials.Credentials('access_token')\n",
    "    #magics.context.credentials = credentials\n",
    "    \n",
    "    # create data 'lego' set if not exists\n",
    "    ds_exists = False\n",
    "\n",
    "    for ds in list(client.list_datasets()):\n",
    "        if ds.dataset_id == DATASET_ID:\n",
    "            ds_exists = True\n",
    "            print(f'Dataset {BQ_PROJECT}.{ds.dataset_id} already exists.')\n",
    "            break;\n",
    "\n",
    "    if not ds_exists:\n",
    "        dataset = bigquery.Dataset(f'{BQ_PROJECT}.{DATASET_ID}')\n",
    "        dataset = client.create_dataset(dataset, timeout=30)  # Make an API request.\n",
    "        print(f'Created dataset {BQ_PROJECT}.{dataset.dataset_id}')  "
   ]
  },
  {
   "cell_type": "code",
   "execution_count": 6,
   "metadata": {
    "_kg_hide-input": true,
    "_kg_hide-output": true,
    "papermill": {
     "duration": 0.106863,
     "end_time": "2020-12-05T11:17:56.023218",
     "exception": false,
     "start_time": "2020-12-05T11:17:55.916355",
     "status": "completed"
    },
    "tags": []
   },
   "outputs": [
    {
     "name": "stdout",
     "output_type": "stream",
     "text": [
      " * sqlite:///lego.db\n",
      "Done.\n",
      "Returning data to local variable df_test\n"
     ]
    }
   ],
   "source": [
    "# ==== Set up SQLite ====\n",
    "\n",
    "if not USE_BIGQUERY:\n",
    "    %sql sqlite:///lego.db\n",
    "    \n",
    "    # Test connection\n",
    "    v1 = \"Ready to go!\"\n",
    "    %sql df_test << SELECT :v1 as \"Test\"\n",
    "    assert(df_test.DataFrame().values[0]==v1)\n",
    "    "
   ]
  },
  {
   "cell_type": "code",
   "execution_count": 7,
   "metadata": {
    "_kg_hide-input": true,
    "_kg_hide-output": true,
    "papermill": {
     "duration": 0.703772,
     "end_time": "2020-12-05T11:17:56.786201",
     "exception": false,
     "start_time": "2020-12-05T11:17:56.082429",
     "status": "completed"
    },
    "tags": []
   },
   "outputs": [],
   "source": [
    "# ==== Loading the data into DataFrames and into SQL database ====\n",
    "# Load dataframes\n",
    "\n",
    "df_colors = pd.read_csv(in_path/'colors.csv')\n",
    "df_inventories = pd.read_csv(in_path/'inventories.csv')\n",
    "df_inventory_parts = pd.read_csv(in_path/'inventory_parts.csv')\n",
    "df_inventory_sets = pd.read_csv(in_path/'inventory_sets.csv')\n",
    "df_part_categories = pd.read_csv(in_path/'part_categories.csv')\n",
    "df_parts = pd.read_csv(in_path/'parts.csv')\n",
    "df_sets = pd.read_csv(in_path/'sets.csv')\n",
    "df_themes = pd.read_csv(in_path/'themes.csv')\n",
    "\n",
    "table_dict = {'colors': df_colors, \n",
    "             'inventories': df_inventories, \n",
    "             'inventory_parts': df_inventory_parts, \n",
    "             'inventory_sets': df_inventory_sets, \n",
    "             'part_categories': df_part_categories, \n",
    "             'parts': df_parts, \n",
    "             'sets': df_sets, \n",
    "             'themes': df_themes}"
   ]
  },
  {
   "cell_type": "code",
   "execution_count": 8,
   "metadata": {
    "_kg_hide-input": true,
    "_kg_hide-output": true,
    "papermill": {
     "duration": 9.086322,
     "end_time": "2020-12-05T11:18:05.947324",
     "exception": false,
     "start_time": "2020-12-05T11:17:56.861002",
     "status": "completed"
    },
    "tags": []
   },
   "outputs": [],
   "source": [
    "# Load sql tables\n",
    "\n",
    "if USE_BIGQUERY:\n",
    "# https://cloud.google.com/bigquery/docs/pandas-gbq-migration#loading_a_pandas_dataframe_to_a_table\n",
    "    \n",
    "    if RECREATE_BQ_TABLES:\n",
    "        for tbl in table_dict:\n",
    "            job = client.delete_table(table= f'lego.{tbl}', not_found_ok = True)\n",
    "            #wait for job to finish\n",
    "            if job!=None: \n",
    "                job.result()\n",
    "            job = client.load_table_from_dataframe(table_dict[tbl], f'lego.{tbl}')\n",
    "            #wait for job to finish\n",
    "            job.result()\n",
    "    else:\n",
    "        print('Skipped table init')\n",
    "\n",
    "    display(client.query('select count(*) from `lego.colors` limit 1000', project=BQ_PROJECT).to_dataframe())\n",
    "\n",
    "else:\n",
    "    # SQLite\n",
    "    for tbl in table_dict:\n",
    "        table_dict[tbl].to_sql(tbl, con='sqlite:///lego.db', if_exists='replace', index = False)\n"
   ]
  },
  {
   "cell_type": "markdown",
   "metadata": {
    "papermill": {
     "duration": 0.062619,
     "end_time": "2020-12-05T11:18:06.069936",
     "exception": false,
     "start_time": "2020-12-05T11:18:06.007317",
     "status": "completed"
    },
    "tags": []
   },
   "source": [
    "# Table of contents\n",
    "\n",
    "* [SQL and Pandas](#sql_and_pandas)\n",
    "* [Missing bricks](#missing_bricks)\n",
    "* [A simple Filter *(The behaviour of brackets.)*](#simple_filter)\n",
    "* [Indexing *(What actually is an index?)*](#indexing)\n",
    "* [Joins *(Why merge doesn't mean upsert.)*](#joins)\n",
    "* [Conditional Joins and Aggregation (*Almost done!*)](#agg)\n",
    "* [Recursion (*Lost in trees?!*)](#rec)\n",
    "* [Summary *(Got it!)*](#sum)\n",
    "* [Resources](#res)\n",
    "* [References](#ref)\n",
    "\n",
    "<a id=\"sql_and_pandas\"></a>\n",
    "# SQL ~~vs.~~ and Pandas\n",
    "\n",
    "I love SQL. It's been around for decades to arrange and analyse data. Data is kept in tables which are stored in a relational structure. Consistancy and data integraty is kept in mind when designing a relational data model. However, when it comes to machine learning other data structures such as matrices and tensors become important to feat the underlying algorithms and make data processing more efficient. That's where Pandas steps in. From a SQL developer perspective it is the library to close the gap between your data storage and the ml frameworks.\n",
    "\n",
    "This blog post shows how to translate some common and some advanced techniques from SQL to pandas step-by-step. I didn't just want to write a plain cheat sheet (actually Pandas has a good one to get started: [Comparison SQL](https://pandas.pydata.org/docs/getting_started/comparison/comparison_with_sql.html)). Rather I want to unwind some concepts that might be helpful for a SQL developer who now and then deals with pandas.\n",
    "\n",
    "The coding examples are built upon a [Lego Dataset](https://www.kaggle.com/rtatman/lego-database), that contains a couple of tables with data about various lego sets. \n",
    "> To follow along I've provided a [notebook](https://www.kaggle.com/joatom/a-handful-of-bricks-from-sql-to-pandas) on kaggle, where you can play with the blog examples either using SQLite or Bigquery. You can also checkout a [docker container](https://github.com/joatom/blog-resources/tree/main/handful_bricks) to play on your home machine.\n",
    "\n",
    "<a id=\"missing_bricks\"></a>\n",
    "# Missing bricks\n",
    "\n",
    "First listen to this imaginary dialogue that guides us throug the coding:\n",
    "\n",
    "<span style=\"color:green\">*I miss all red bricks of the Lego Pizzeria. I definetly need a new one.*</span>\n",
    "\n",
    "<span style=\"color:blue\">*Don't worry. We can try to solve this with data. That will be fun. :-)*</span>\n",
    "\n",
    "<span style=\"color:green\">*(!@#%&) You're kidding, right?*</span>\n",
    "\n",
    "Now that we have a mission we are ready to code and figuere out how to deal with missing bricks.\n",
    "First we inspect the tables. They are organized as shown in the relational diagram ([Fig. 1](#Fig_1)).\n",
    "\n",
    "<a id=\"Fig_1\"></a>\n",
    "![datamodel](./assets/schema.png)\n",
    "\n",
    "Fig. 1: Data model ([source](https://www.kaggle.com/rtatman/lego-database))\n",
    "\n",
    "There are colors, parts, sets and inventories. We should start by searching for the *Pizzeria* in the `sets` table using the set number (*41311*).\n",
    "\n",
    "<a id=\"Fig_2\"></a>\n",
    "![Pizzeria](./assets/piz.png)\n",
    "\n",
    "Fig. 2: Lego Box with set number"
   ]
  },
  {
   "cell_type": "markdown",
   "metadata": {
    "papermill": {
     "duration": 0.057814,
     "end_time": "2020-12-05T11:18:06.488341",
     "exception": false,
     "start_time": "2020-12-05T11:18:06.430527",
     "status": "completed"
    },
    "tags": []
   },
   "source": [
    "<a id = \"simple_filter\"></a>\n",
    "# A simple Filter *(The behaviour of brackets.)*\n",
    "A simple `like`-filter on the `sets` table will return the set info.\n",
    "\n",
    "```sql\n",
    "SELECT *\n",
    "  FROM sets s\n",
    " WHERE s.set_num like '41311%'\n",
    "```\n"
   ]
  },
  {
   "cell_type": "markdown",
   "metadata": {
    "papermill": {
     "duration": 0.057809,
     "end_time": "2020-12-05T11:18:06.604471",
     "exception": false,
     "start_time": "2020-12-05T11:18:06.546662",
     "status": "completed"
    },
    "tags": []
   },
   "source": [
    "There are several ways to apply a filter in Pandas. The most SQL-like code utilizes the `query`-function which basicaly substitutes the `where` clause."
   ]
  },
  {
   "cell_type": "code",
   "execution_count": 9,
   "metadata": {
    "papermill": {
     "duration": 0.11184,
     "end_time": "2020-12-05T11:18:06.774877",
     "exception": false,
     "start_time": "2020-12-05T11:18:06.663037",
     "status": "completed"
    },
    "tags": []
   },
   "outputs": [
    {
     "data": {
      "text/html": [
       "<div>\n",
       "<style scoped>\n",
       "    .dataframe tbody tr th:only-of-type {\n",
       "        vertical-align: middle;\n",
       "    }\n",
       "\n",
       "    .dataframe tbody tr th {\n",
       "        vertical-align: top;\n",
       "    }\n",
       "\n",
       "    .dataframe thead th {\n",
       "        text-align: right;\n",
       "    }\n",
       "</style>\n",
       "<table border=\"1\" class=\"dataframe\">\n",
       "  <thead>\n",
       "    <tr style=\"text-align: right;\">\n",
       "      <th></th>\n",
       "      <th>set_num</th>\n",
       "      <th>name</th>\n",
       "      <th>year</th>\n",
       "      <th>theme_id</th>\n",
       "      <th>num_parts</th>\n",
       "    </tr>\n",
       "  </thead>\n",
       "  <tbody>\n",
       "    <tr>\n",
       "      <th>3582</th>\n",
       "      <td>41311-1</td>\n",
       "      <td>Heartlake Pizzeria</td>\n",
       "      <td>2017</td>\n",
       "      <td>494</td>\n",
       "      <td>287</td>\n",
       "    </tr>\n",
       "  </tbody>\n",
       "</table>\n",
       "</div>"
      ],
      "text/plain": [
       "      set_num                name  year  theme_id  num_parts\n",
       "3582  41311-1  Heartlake Pizzeria  2017       494        287"
      ]
     },
     "execution_count": 9,
     "metadata": {},
     "output_type": "execute_result"
    }
   ],
   "source": [
    "df_sets.query(\"set_num.str.contains('41311')\", engine='python')"
   ]
  },
  {
   "cell_type": "markdown",
   "metadata": {
    "papermill": {
     "duration": 0.059301,
     "end_time": "2020-12-05T11:18:06.893167",
     "exception": false,
     "start_time": "2020-12-05T11:18:06.833866",
     "status": "completed"
    },
    "tags": []
   },
   "source": [
    "Since the `query` function expects a String as input parameter we loose syntax highlighting and syntax checking for our filter expression.\n",
    "\n",
    "Therefore a more commonly used expression consists of the **bracket notation** (The behaviour of the bracket notation of a class in python is implementated in the class function `__getitem__`)\n",
    "\n",
    "See how we can apply an equals filter using brackets."
   ]
  },
  {
   "cell_type": "code",
   "execution_count": 10,
   "metadata": {
    "papermill": {
     "duration": 0.092366,
     "end_time": "2020-12-05T11:18:07.045178",
     "exception": false,
     "start_time": "2020-12-05T11:18:06.952812",
     "status": "completed"
    },
    "tags": []
   },
   "outputs": [
    {
     "data": {
      "text/html": [
       "<div>\n",
       "<style scoped>\n",
       "    .dataframe tbody tr th:only-of-type {\n",
       "        vertical-align: middle;\n",
       "    }\n",
       "\n",
       "    .dataframe tbody tr th {\n",
       "        vertical-align: top;\n",
       "    }\n",
       "\n",
       "    .dataframe thead th {\n",
       "        text-align: right;\n",
       "    }\n",
       "</style>\n",
       "<table border=\"1\" class=\"dataframe\">\n",
       "  <thead>\n",
       "    <tr style=\"text-align: right;\">\n",
       "      <th></th>\n",
       "      <th>set_num</th>\n",
       "      <th>name</th>\n",
       "      <th>year</th>\n",
       "      <th>theme_id</th>\n",
       "      <th>num_parts</th>\n",
       "    </tr>\n",
       "  </thead>\n",
       "  <tbody>\n",
       "    <tr>\n",
       "      <th>3582</th>\n",
       "      <td>41311-1</td>\n",
       "      <td>Heartlake Pizzeria</td>\n",
       "      <td>2017</td>\n",
       "      <td>494</td>\n",
       "      <td>287</td>\n",
       "    </tr>\n",
       "  </tbody>\n",
       "</table>\n",
       "</div>"
      ],
      "text/plain": [
       "      set_num                name  year  theme_id  num_parts\n",
       "3582  41311-1  Heartlake Pizzeria  2017       494        287"
      ]
     },
     "execution_count": 10,
     "metadata": {},
     "output_type": "execute_result"
    }
   ],
   "source": [
    "df_sets.query(\"set_num == '41311-1'\")\n",
    "\n",
    "# or\n",
    "\n",
    "df_sets[df_sets.set_num == '41311-1']\n",
    "\n",
    "# or\n",
    "\n",
    "df_sets[df_sets['set_num'] == '41311-1']"
   ]
  },
  {
   "cell_type": "markdown",
   "metadata": {
    "papermill": {
     "duration": 0.061638,
     "end_time": "2020-12-05T11:18:07.168761",
     "exception": false,
     "start_time": "2020-12-05T11:18:07.107123",
     "status": "completed"
    },
    "tags": []
   },
   "source": [
    "There is a lot going on in this expression.\n",
    "\n",
    "Let's take it apart.\n",
    "\n",
    "`df_sets['set_num']` returns a single column (a *Pandas.Series* object). A Pandas Dataframe is basically a collection of Series. Additionaly there is a row index (often just called *index*) and a column index (*columnnames*). Think of a column store database.\n",
    "\n",
    "<a id=\"Fig_3\"></a>\n",
    "![DF](./assets/df.png)\n",
    "\n",
    "Fig. 3: Elements of a Dataframe"
   ]
  },
  {
   "cell_type": "markdown",
   "metadata": {
    "papermill": {
     "duration": 0.064444,
     "end_time": "2020-12-05T11:18:07.295345",
     "exception": false,
     "start_time": "2020-12-05T11:18:07.230901",
     "status": "completed"
    },
    "tags": []
   },
   "source": [
    "Applying a boolean condition (`== '41311-1'`) to a Series of the DataFrame (`df_sets['set_num']`) will result in a boolean collection of the size of the column."
   ]
  },
  {
   "cell_type": "code",
   "execution_count": 11,
   "metadata": {
    "papermill": {
     "duration": 0.086058,
     "end_time": "2020-12-05T11:18:07.454052",
     "exception": false,
     "start_time": "2020-12-05T11:18:07.367994",
     "status": "completed"
    },
    "tags": []
   },
   "outputs": [
    {
     "data": {
      "text/plain": [
       "3580    False\n",
       "3581    False\n",
       "3582     True\n",
       "3583    False\n",
       "3584    False\n",
       "3585    False\n",
       "3586    False\n",
       "3587    False\n",
       "3588    False\n",
       "3589    False\n",
       "Name: set_num, dtype: bool"
      ]
     },
     "execution_count": 11,
     "metadata": {},
     "output_type": "execute_result"
    }
   ],
   "source": [
    "bool_coll = df_sets['set_num'] == '41311-1'\n",
    "\n",
    "# only look at the position 3580 - 3590 of the collection\n",
    "bool_coll[3580:3590]"
   ]
  },
  {
   "cell_type": "markdown",
   "metadata": {
    "papermill": {
     "duration": 0.060046,
     "end_time": "2020-12-05T11:18:07.574489",
     "exception": false,
     "start_time": "2020-12-05T11:18:07.514443",
     "status": "completed"
    },
    "tags": []
   },
   "source": [
    "The boolean collection now gets past to the DataFrame and filters the rows:\n",
    "```python\n",
    "df_sets[bool_coll]\n",
    "# or \n",
    "df_sets[df_sets['set_num'] == '41311-1']\n",
    "```\n",
    "Depending on what type of object we pass to the square brackets the outcome result in very different behaviors. \n",
    "\n",
    "We have already seen in the example above that if we pass a **boolean collection** with the size of number of rows, the collection is been handled as a **row filter**. \n",
    "\n",
    "But if we pass a column name or a **list of column** names to the brackets instead, the given columns are selected like in the `SELECT` clause of an SQL statement. \n",
    "```sql\n",
    "SELECT name,\n",
    "       year\n",
    "  FROM lego.sets;\n",
    "```\n",
    "=> \n",
    "```python\n",
    "df_sets[['name', 'year']]\n",
    "```\n",
    "\n",
    "Row filter and column selection can be combined like this:\n",
    "```sql\n",
    "SELECT s.name,\n",
    "       s.year\n",
    "  FROM lego.sets s\n",
    " WHERE s.set_num = '41311-1';\n",
    "```\n",
    "=>"
   ]
  },
  {
   "cell_type": "code",
   "execution_count": 12,
   "metadata": {
    "papermill": {
     "duration": 0.084218,
     "end_time": "2020-12-05T11:18:07.720631",
     "exception": false,
     "start_time": "2020-12-05T11:18:07.636413",
     "status": "completed"
    },
    "tags": []
   },
   "outputs": [
    {
     "data": {
      "text/html": [
       "<div>\n",
       "<style scoped>\n",
       "    .dataframe tbody tr th:only-of-type {\n",
       "        vertical-align: middle;\n",
       "    }\n",
       "\n",
       "    .dataframe tbody tr th {\n",
       "        vertical-align: top;\n",
       "    }\n",
       "\n",
       "    .dataframe thead th {\n",
       "        text-align: right;\n",
       "    }\n",
       "</style>\n",
       "<table border=\"1\" class=\"dataframe\">\n",
       "  <thead>\n",
       "    <tr style=\"text-align: right;\">\n",
       "      <th></th>\n",
       "      <th>name</th>\n",
       "      <th>year</th>\n",
       "    </tr>\n",
       "  </thead>\n",
       "  <tbody>\n",
       "    <tr>\n",
       "      <th>3582</th>\n",
       "      <td>Heartlake Pizzeria</td>\n",
       "      <td>2017</td>\n",
       "    </tr>\n",
       "  </tbody>\n",
       "</table>\n",
       "</div>"
      ],
      "text/plain": [
       "                    name  year\n",
       "3582  Heartlake Pizzeria  2017"
      ]
     },
     "execution_count": 12,
     "metadata": {},
     "output_type": "execute_result"
    }
   ],
   "source": [
    "df_temp = df_sets[df_sets['set_num'] == '41311-1']\n",
    "df_temp[['name','year']]\n",
    "\n",
    "# or simply:\n",
    "\n",
    "df_sets[df_sets['set_num'] == '41311-1'][['name','year']]"
   ]
  },
  {
   "cell_type": "markdown",
   "metadata": {
    "papermill": {
     "duration": 0.060939,
     "end_time": "2020-12-05T11:18:07.843958",
     "exception": false,
     "start_time": "2020-12-05T11:18:07.783019",
     "status": "completed"
    },
    "tags": []
   },
   "source": [
    "<a id = \"indexing\"></a>\n",
    "# Indexing *(What actually is an index?)*\n",
    "Another way to access a row in Pandas is by using the row index. With the `loc` function (and brackets) we select the *Pizzeria* and another arbitrary set. We use the row numbers to filter the rows."
   ]
  },
  {
   "cell_type": "code",
   "execution_count": 13,
   "metadata": {
    "papermill": {
     "duration": 0.079106,
     "end_time": "2020-12-05T11:18:07.985223",
     "exception": false,
     "start_time": "2020-12-05T11:18:07.906117",
     "status": "completed"
    },
    "tags": []
   },
   "outputs": [
    {
     "data": {
      "text/html": [
       "<div>\n",
       "<style scoped>\n",
       "    .dataframe tbody tr th:only-of-type {\n",
       "        vertical-align: middle;\n",
       "    }\n",
       "\n",
       "    .dataframe tbody tr th {\n",
       "        vertical-align: top;\n",
       "    }\n",
       "\n",
       "    .dataframe thead th {\n",
       "        text-align: right;\n",
       "    }\n",
       "</style>\n",
       "<table border=\"1\" class=\"dataframe\">\n",
       "  <thead>\n",
       "    <tr style=\"text-align: right;\">\n",
       "      <th></th>\n",
       "      <th>set_num</th>\n",
       "      <th>name</th>\n",
       "      <th>year</th>\n",
       "      <th>theme_id</th>\n",
       "      <th>num_parts</th>\n",
       "    </tr>\n",
       "  </thead>\n",
       "  <tbody>\n",
       "    <tr>\n",
       "      <th>236</th>\n",
       "      <td>10255-1</td>\n",
       "      <td>Assembly Square</td>\n",
       "      <td>2017</td>\n",
       "      <td>155</td>\n",
       "      <td>4009</td>\n",
       "    </tr>\n",
       "    <tr>\n",
       "      <th>3582</th>\n",
       "      <td>41311-1</td>\n",
       "      <td>Heartlake Pizzeria</td>\n",
       "      <td>2017</td>\n",
       "      <td>494</td>\n",
       "      <td>287</td>\n",
       "    </tr>\n",
       "  </tbody>\n",
       "</table>\n",
       "</div>"
      ],
      "text/plain": [
       "      set_num                name  year  theme_id  num_parts\n",
       "236   10255-1     Assembly Square  2017       155       4009\n",
       "3582  41311-1  Heartlake Pizzeria  2017       494        287"
      ]
     },
     "execution_count": 13,
     "metadata": {},
     "output_type": "execute_result"
    }
   ],
   "source": [
    "df_sets.loc[[236, 3582]]"
   ]
  },
  {
   "cell_type": "markdown",
   "metadata": {
    "papermill": {
     "duration": 0.071291,
     "end_time": "2020-12-05T11:18:08.122432",
     "exception": false,
     "start_time": "2020-12-05T11:18:08.051141",
     "status": "completed"
    },
    "tags": []
   },
   "source": [
    "If we inspect the DataFrame closely we realize that it doesn't realy look like a simple table but rather like a **cross table**. \n",
    "\n",
    "The first column on the left is a row index and the table header is the column index. In the center the values of the columns are displayed (see [Fig. 3](#Fig_3)). \n",
    "\n",
    "If we think of the values as a matrix the rows are dimension 0 and columns are dimension 1. The dimension is often used in DataFrame functions as `axis` parameter. E.g. dropping columns can be done using dimensional information:\n",
    "\n",
    "```sql\n",
    "-- EXCEPT in SELECT clause only works with BIGQUERY\n",
    "SELECT s.* EXCEPT s.year\n",
    "  FROM lego.sets s;\n",
    "```\n",
    "\n",
    "==> "
   ]
  },
  {
   "cell_type": "code",
   "execution_count": 14,
   "metadata": {
    "papermill": {
     "duration": 0.085014,
     "end_time": "2020-12-05T11:18:08.411060",
     "exception": false,
     "start_time": "2020-12-05T11:18:08.326046",
     "status": "completed"
    },
    "tags": []
   },
   "outputs": [
    {
     "data": {
      "text/html": [
       "<div>\n",
       "<style scoped>\n",
       "    .dataframe tbody tr th:only-of-type {\n",
       "        vertical-align: middle;\n",
       "    }\n",
       "\n",
       "    .dataframe tbody tr th {\n",
       "        vertical-align: top;\n",
       "    }\n",
       "\n",
       "    .dataframe thead th {\n",
       "        text-align: right;\n",
       "    }\n",
       "</style>\n",
       "<table border=\"1\" class=\"dataframe\">\n",
       "  <thead>\n",
       "    <tr style=\"text-align: right;\">\n",
       "      <th></th>\n",
       "      <th>set_num</th>\n",
       "      <th>name</th>\n",
       "      <th>theme_id</th>\n",
       "      <th>num_parts</th>\n",
       "    </tr>\n",
       "  </thead>\n",
       "  <tbody>\n",
       "    <tr>\n",
       "      <th>0</th>\n",
       "      <td>00-1</td>\n",
       "      <td>Weetabix Castle</td>\n",
       "      <td>414</td>\n",
       "      <td>471</td>\n",
       "    </tr>\n",
       "    <tr>\n",
       "      <th>1</th>\n",
       "      <td>0011-2</td>\n",
       "      <td>Town Mini-Figures</td>\n",
       "      <td>84</td>\n",
       "      <td>12</td>\n",
       "    </tr>\n",
       "    <tr>\n",
       "      <th>2</th>\n",
       "      <td>0011-3</td>\n",
       "      <td>Castle 2 for 1 Bonus Offer</td>\n",
       "      <td>199</td>\n",
       "      <td>2</td>\n",
       "    </tr>\n",
       "    <tr>\n",
       "      <th>3</th>\n",
       "      <td>0012-1</td>\n",
       "      <td>Space Mini-Figures</td>\n",
       "      <td>143</td>\n",
       "      <td>12</td>\n",
       "    </tr>\n",
       "    <tr>\n",
       "      <th>4</th>\n",
       "      <td>0013-1</td>\n",
       "      <td>Space Mini-Figures</td>\n",
       "      <td>143</td>\n",
       "      <td>12</td>\n",
       "    </tr>\n",
       "  </tbody>\n",
       "</table>\n",
       "</div>"
      ],
      "text/plain": [
       "  set_num                        name  theme_id  num_parts\n",
       "0    00-1             Weetabix Castle       414        471\n",
       "1  0011-2           Town Mini-Figures        84         12\n",
       "2  0011-3  Castle 2 for 1 Bonus Offer       199          2\n",
       "3  0012-1          Space Mini-Figures       143         12\n",
       "4  0013-1          Space Mini-Figures       143         12"
      ]
     },
     "execution_count": 14,
     "metadata": {},
     "output_type": "execute_result"
    }
   ],
   "source": [
    "df_sets.drop(['year'], axis = 1).head(5)"
   ]
  },
  {
   "cell_type": "markdown",
   "metadata": {
    "papermill": {
     "duration": 0.0638,
     "end_time": "2020-12-05T11:18:08.539679",
     "exception": false,
     "start_time": "2020-12-05T11:18:08.475879",
     "status": "completed"
    },
    "tags": []
   },
   "source": [
    "The indexes can be accessed with the `index` and `columns` variable. `axes` contains both."
   ]
  },
  {
   "cell_type": "code",
   "execution_count": 15,
   "metadata": {
    "papermill": {
     "duration": 0.077181,
     "end_time": "2020-12-05T11:18:08.680663",
     "exception": false,
     "start_time": "2020-12-05T11:18:08.603482",
     "status": "completed"
    },
    "tags": []
   },
   "outputs": [
    {
     "data": {
      "text/plain": [
       "[RangeIndex(start=0, stop=11673, step=1),\n",
       " Index(['set_num', 'name', 'year', 'theme_id', 'num_parts'], dtype='object')]"
      ]
     },
     "execution_count": 15,
     "metadata": {},
     "output_type": "execute_result"
    }
   ],
   "source": [
    "df_sets.index # row index\n",
    "df_sets.columns # column index\n",
    "\n",
    "df_sets.axes # both"
   ]
  },
  {
   "cell_type": "markdown",
   "metadata": {
    "papermill": {
     "duration": 0.063444,
     "end_time": "2020-12-05T11:18:08.808767",
     "exception": false,
     "start_time": "2020-12-05T11:18:08.745323",
     "status": "completed"
    },
    "tags": []
   },
   "source": [
    "The row index doesn't necessarely be the row number. We can also convert a column into a row index."
   ]
  },
  {
   "cell_type": "code",
   "execution_count": 16,
   "metadata": {
    "papermill": {
     "duration": 0.083673,
     "end_time": "2020-12-05T11:18:08.956167",
     "exception": false,
     "start_time": "2020-12-05T11:18:08.872494",
     "status": "completed"
    },
    "tags": []
   },
   "outputs": [
    {
     "data": {
      "text/html": [
       "<div>\n",
       "<style scoped>\n",
       "    .dataframe tbody tr th:only-of-type {\n",
       "        vertical-align: middle;\n",
       "    }\n",
       "\n",
       "    .dataframe tbody tr th {\n",
       "        vertical-align: top;\n",
       "    }\n",
       "\n",
       "    .dataframe thead th {\n",
       "        text-align: right;\n",
       "    }\n",
       "</style>\n",
       "<table border=\"1\" class=\"dataframe\">\n",
       "  <thead>\n",
       "    <tr style=\"text-align: right;\">\n",
       "      <th></th>\n",
       "      <th>name</th>\n",
       "      <th>year</th>\n",
       "      <th>theme_id</th>\n",
       "      <th>num_parts</th>\n",
       "    </tr>\n",
       "    <tr>\n",
       "      <th>set_num</th>\n",
       "      <th></th>\n",
       "      <th></th>\n",
       "      <th></th>\n",
       "      <th></th>\n",
       "    </tr>\n",
       "  </thead>\n",
       "  <tbody>\n",
       "    <tr>\n",
       "      <th>00-1</th>\n",
       "      <td>Weetabix Castle</td>\n",
       "      <td>1970</td>\n",
       "      <td>414</td>\n",
       "      <td>471</td>\n",
       "    </tr>\n",
       "    <tr>\n",
       "      <th>0011-2</th>\n",
       "      <td>Town Mini-Figures</td>\n",
       "      <td>1978</td>\n",
       "      <td>84</td>\n",
       "      <td>12</td>\n",
       "    </tr>\n",
       "    <tr>\n",
       "      <th>0011-3</th>\n",
       "      <td>Castle 2 for 1 Bonus Offer</td>\n",
       "      <td>1987</td>\n",
       "      <td>199</td>\n",
       "      <td>2</td>\n",
       "    </tr>\n",
       "    <tr>\n",
       "      <th>0012-1</th>\n",
       "      <td>Space Mini-Figures</td>\n",
       "      <td>1979</td>\n",
       "      <td>143</td>\n",
       "      <td>12</td>\n",
       "    </tr>\n",
       "    <tr>\n",
       "      <th>0013-1</th>\n",
       "      <td>Space Mini-Figures</td>\n",
       "      <td>1979</td>\n",
       "      <td>143</td>\n",
       "      <td>12</td>\n",
       "    </tr>\n",
       "  </tbody>\n",
       "</table>\n",
       "</div>"
      ],
      "text/plain": [
       "                               name  year  theme_id  num_parts\n",
       "set_num                                                       \n",
       "00-1                Weetabix Castle  1970       414        471\n",
       "0011-2            Town Mini-Figures  1978        84         12\n",
       "0011-3   Castle 2 for 1 Bonus Offer  1987       199          2\n",
       "0012-1           Space Mini-Figures  1979       143         12\n",
       "0013-1           Space Mini-Figures  1979       143         12"
      ]
     },
     "execution_count": 16,
     "metadata": {},
     "output_type": "execute_result"
    }
   ],
   "source": [
    "df_sets.set_index('set_num').head()"
   ]
  },
  {
   "cell_type": "markdown",
   "metadata": {
    "papermill": {
     "duration": 0.064176,
     "end_time": "2020-12-05T11:18:09.085982",
     "exception": false,
     "start_time": "2020-12-05T11:18:09.021806",
     "status": "completed"
    },
    "tags": []
   },
   "source": [
    "It is also possible to define hierarchicle indicies for multi dimensional representation. "
   ]
  },
  {
   "cell_type": "code",
   "execution_count": 17,
   "metadata": {
    "papermill": {
     "duration": 0.115807,
     "end_time": "2020-12-05T11:18:09.266926",
     "exception": false,
     "start_time": "2020-12-05T11:18:09.151119",
     "status": "completed"
    },
    "tags": []
   },
   "outputs": [
    {
     "data": {
      "text/html": [
       "<div>\n",
       "<style scoped>\n",
       "    .dataframe tbody tr th:only-of-type {\n",
       "        vertical-align: middle;\n",
       "    }\n",
       "\n",
       "    .dataframe tbody tr th {\n",
       "        vertical-align: top;\n",
       "    }\n",
       "\n",
       "    .dataframe thead th {\n",
       "        text-align: right;\n",
       "    }\n",
       "</style>\n",
       "<table border=\"1\" class=\"dataframe\">\n",
       "  <thead>\n",
       "    <tr style=\"text-align: right;\">\n",
       "      <th></th>\n",
       "      <th></th>\n",
       "      <th>name</th>\n",
       "      <th>theme_id</th>\n",
       "      <th>num_parts</th>\n",
       "    </tr>\n",
       "    <tr>\n",
       "      <th>year</th>\n",
       "      <th>set_num</th>\n",
       "      <th></th>\n",
       "      <th></th>\n",
       "      <th></th>\n",
       "    </tr>\n",
       "  </thead>\n",
       "  <tbody>\n",
       "    <tr>\n",
       "      <th rowspan=\"5\" valign=\"top\">1950</th>\n",
       "      <th>700.1.1-1</th>\n",
       "      <td>Individual 2 x 4 Bricks</td>\n",
       "      <td>371</td>\n",
       "      <td>10</td>\n",
       "    </tr>\n",
       "    <tr>\n",
       "      <th>700.1.2-1</th>\n",
       "      <td>Individual 2 x 2 Bricks</td>\n",
       "      <td>371</td>\n",
       "      <td>9</td>\n",
       "    </tr>\n",
       "    <tr>\n",
       "      <th>700.A-1</th>\n",
       "      <td>Automatic Binding Bricks Small Brick Set (Lego...</td>\n",
       "      <td>366</td>\n",
       "      <td>24</td>\n",
       "    </tr>\n",
       "    <tr>\n",
       "      <th>700.B.1-1</th>\n",
       "      <td>Individual 1 x 4 x 2 Window (without glass)</td>\n",
       "      <td>371</td>\n",
       "      <td>7</td>\n",
       "    </tr>\n",
       "    <tr>\n",
       "      <th>700.B.2-1</th>\n",
       "      <td>Individual 1 x 2 x 3 Window (without glass)</td>\n",
       "      <td>371</td>\n",
       "      <td>7</td>\n",
       "    </tr>\n",
       "  </tbody>\n",
       "</table>\n",
       "</div>"
      ],
      "text/plain": [
       "                                                             name  theme_id  \\\n",
       "year set_num                                                                  \n",
       "1950 700.1.1-1                            Individual 2 x 4 Bricks       371   \n",
       "     700.1.2-1                            Individual 2 x 2 Bricks       371   \n",
       "     700.A-1    Automatic Binding Bricks Small Brick Set (Lego...       366   \n",
       "     700.B.1-1        Individual 1 x 4 x 2 Window (without glass)       371   \n",
       "     700.B.2-1        Individual 1 x 2 x 3 Window (without glass)       371   \n",
       "\n",
       "                num_parts  \n",
       "year set_num               \n",
       "1950 700.1.1-1         10  \n",
       "     700.1.2-1          9  \n",
       "     700.A-1           24  \n",
       "     700.B.1-1          7  \n",
       "     700.B.2-1          7  "
      ]
     },
     "execution_count": 17,
     "metadata": {},
     "output_type": "execute_result"
    }
   ],
   "source": [
    "df_sets.set_index(['year', 'set_num']).sort_index(axis=0).head() # axis = 0 => row index"
   ]
  },
  {
   "cell_type": "markdown",
   "metadata": {
    "papermill": {
     "duration": 0.065741,
     "end_time": "2020-12-05T11:18:09.398415",
     "exception": false,
     "start_time": "2020-12-05T11:18:09.332674",
     "status": "completed"
    },
    "tags": []
   },
   "source": [
    "Sometimes it is usefull to reset the index, hence reset the row numbers."
   ]
  },
  {
   "cell_type": "code",
   "execution_count": 18,
   "metadata": {
    "papermill": {
     "duration": 0.081999,
     "end_time": "2020-12-05T11:18:09.545726",
     "exception": false,
     "start_time": "2020-12-05T11:18:09.463727",
     "status": "completed"
    },
    "tags": []
   },
   "outputs": [
    {
     "data": {
      "text/html": [
       "<div>\n",
       "<style scoped>\n",
       "    .dataframe tbody tr th:only-of-type {\n",
       "        vertical-align: middle;\n",
       "    }\n",
       "\n",
       "    .dataframe tbody tr th {\n",
       "        vertical-align: top;\n",
       "    }\n",
       "\n",
       "    .dataframe thead th {\n",
       "        text-align: right;\n",
       "    }\n",
       "</style>\n",
       "<table border=\"1\" class=\"dataframe\">\n",
       "  <thead>\n",
       "    <tr style=\"text-align: right;\">\n",
       "      <th></th>\n",
       "      <th>set_num</th>\n",
       "      <th>name</th>\n",
       "      <th>year</th>\n",
       "      <th>theme_id</th>\n",
       "      <th>num_parts</th>\n",
       "    </tr>\n",
       "  </thead>\n",
       "  <tbody>\n",
       "    <tr>\n",
       "      <th>0</th>\n",
       "      <td>10255-1</td>\n",
       "      <td>Assembly Square</td>\n",
       "      <td>2017</td>\n",
       "      <td>155</td>\n",
       "      <td>4009</td>\n",
       "    </tr>\n",
       "    <tr>\n",
       "      <th>1</th>\n",
       "      <td>41311-1</td>\n",
       "      <td>Heartlake Pizzeria</td>\n",
       "      <td>2017</td>\n",
       "      <td>494</td>\n",
       "      <td>287</td>\n",
       "    </tr>\n",
       "  </tbody>\n",
       "</table>\n",
       "</div>"
      ],
      "text/plain": [
       "   set_num                name  year  theme_id  num_parts\n",
       "0  10255-1     Assembly Square  2017       155       4009\n",
       "1  41311-1  Heartlake Pizzeria  2017       494        287"
      ]
     },
     "execution_count": 18,
     "metadata": {},
     "output_type": "execute_result"
    }
   ],
   "source": [
    "df_sets.loc[[236, 3582]].reset_index(drop = True) # set drop = False to keep the old index as new column"
   ]
  },
  {
   "cell_type": "markdown",
   "metadata": {
    "papermill": {
     "duration": 0.114667,
     "end_time": "2020-12-05T11:18:09.730734",
     "exception": false,
     "start_time": "2020-12-05T11:18:09.616067",
     "status": "completed"
    },
    "tags": []
   },
   "source": [
    "Now we get a sence what is meant by an index in Pandas in contrast to SQL.\n",
    "\n",
    "**Indices in SQL** are hidden data structures (in form of e.g. b-trees or hash-tables). They are built to **access data more quickly**, to avoid full table scans when appropriate or to mantain consistancies when used with constraints.\n",
    "\n",
    "An **index in Pandas** can rather be seen as a **dimensional access** to the data values. They can be distingueshed between row and column indices."
   ]
  },
  {
   "cell_type": "markdown",
   "metadata": {
    "papermill": {
     "duration": 0.065019,
     "end_time": "2020-12-05T11:18:09.861458",
     "exception": false,
     "start_time": "2020-12-05T11:18:09.796439",
     "status": "completed"
    },
    "tags": []
   },
   "source": [
    "<a id = \"joins\"></a>\n",
    "# Joins *(Why merge doesn't mean upsert.)*\n",
    "\n",
    "<span style=\"color:green\">*What are we gonna do now about my missing parts?*</span>\n",
    "\n",
    "<span style=\"color:blue\">*We don't have all the information we need, yet. We need to join the other tables.*</span>\n",
    "\n",
    "Though there is a function called `join` to join DataFrames I always use the `merge` function. This can be a bit confusing, when you are used to Oracle where *merge* means upsert/updelete rather then combining two tables.\n",
    "\n",
    "When combining two DataFrames with the `merge` function in Pandas we have to define the relationship more explicitly. If you are used to SQL thats what you want. \n",
    "\n",
    "In contrast the `join` function implicitly combines the DataFrames by their index or column names. It also enables multiply DataFrame joins in one statement as long as the join columns are matchable by name.\n",
    "```sql\n",
    "SELECT * \n",
    "  FROM sets s\n",
    " INNER JOIN\n",
    "       inventories i\n",
    "    ON s.set_num = i.set_num -- USING (set_num)\n",
    "LIMIT 5\n",
    "```"
   ]
  },
  {
   "cell_type": "code",
   "execution_count": 19,
   "metadata": {
    "_kg_hide-input": true,
    "jupyter": {
     "source_hidden": true
    },
    "papermill": {
     "duration": 0.095459,
     "end_time": "2020-12-05T11:18:10.022667",
     "exception": false,
     "start_time": "2020-12-05T11:18:09.927208",
     "status": "completed"
    },
    "tags": []
   },
   "outputs": [
    {
     "name": "stdout",
     "output_type": "stream",
     "text": [
      " * sqlite:///lego.db\n",
      "Done.\n"
     ]
    },
    {
     "data": {
      "text/html": [
       "<table>\n",
       "    <tr>\n",
       "        <th>set_num</th>\n",
       "        <th>name</th>\n",
       "        <th>year</th>\n",
       "        <th>theme_id</th>\n",
       "        <th>num_parts</th>\n",
       "        <th>id</th>\n",
       "        <th>version</th>\n",
       "        <th>set_num_1</th>\n",
       "    </tr>\n",
       "    <tr>\n",
       "        <td>00-1</td>\n",
       "        <td>Weetabix Castle</td>\n",
       "        <td>1970</td>\n",
       "        <td>414</td>\n",
       "        <td>471</td>\n",
       "        <td>5574</td>\n",
       "        <td>1</td>\n",
       "        <td>00-1</td>\n",
       "    </tr>\n",
       "    <tr>\n",
       "        <td>0011-2</td>\n",
       "        <td>Town Mini-Figures</td>\n",
       "        <td>1978</td>\n",
       "        <td>84</td>\n",
       "        <td>12</td>\n",
       "        <td>5087</td>\n",
       "        <td>1</td>\n",
       "        <td>0011-2</td>\n",
       "    </tr>\n",
       "    <tr>\n",
       "        <td>0011-3</td>\n",
       "        <td>Castle 2 for 1 Bonus Offer</td>\n",
       "        <td>1987</td>\n",
       "        <td>199</td>\n",
       "        <td>2</td>\n",
       "        <td>2216</td>\n",
       "        <td>1</td>\n",
       "        <td>0011-3</td>\n",
       "    </tr>\n",
       "    <tr>\n",
       "        <td>0012-1</td>\n",
       "        <td>Space Mini-Figures</td>\n",
       "        <td>1979</td>\n",
       "        <td>143</td>\n",
       "        <td>12</td>\n",
       "        <td>1414</td>\n",
       "        <td>1</td>\n",
       "        <td>0012-1</td>\n",
       "    </tr>\n",
       "    <tr>\n",
       "        <td>0013-1</td>\n",
       "        <td>Space Mini-Figures</td>\n",
       "        <td>1979</td>\n",
       "        <td>143</td>\n",
       "        <td>12</td>\n",
       "        <td>4609</td>\n",
       "        <td>1</td>\n",
       "        <td>0013-1</td>\n",
       "    </tr>\n",
       "</table>"
      ],
      "text/plain": [
       "[('00-1', 'Weetabix Castle', 1970, 414, 471, 5574, 1, '00-1'),\n",
       " ('0011-2', 'Town Mini-Figures', 1978, 84, 12, 5087, 1, '0011-2'),\n",
       " ('0011-3', 'Castle 2 for 1 Bonus Offer', 1987, 199, 2, 2216, 1, '0011-3'),\n",
       " ('0012-1', 'Space Mini-Figures', 1979, 143, 12, 1414, 1, '0012-1'),\n",
       " ('0013-1', 'Space Mini-Figures', 1979, 143, 12, 4609, 1, '0013-1')]"
      ]
     },
     "execution_count": 19,
     "metadata": {},
     "output_type": "execute_result"
    }
   ],
   "source": [
    "%%sql\n",
    "SELECT * \n",
    "  FROM sets s\n",
    " INNER JOIN\n",
    "       inventories i\n",
    "    ON s.set_num = i.set_num \n",
    "LIMIT 5"
   ]
  },
  {
   "cell_type": "markdown",
   "metadata": {
    "papermill": {
     "duration": 0.067469,
     "end_time": "2020-12-05T11:18:10.157813",
     "exception": false,
     "start_time": "2020-12-05T11:18:10.090344",
     "status": "completed"
    },
    "tags": []
   },
   "source": [
    "These Pandas statements all do the same:"
   ]
  },
  {
   "cell_type": "code",
   "execution_count": 20,
   "metadata": {
    "papermill": {
     "duration": 0.125514,
     "end_time": "2020-12-05T11:18:10.352886",
     "exception": false,
     "start_time": "2020-12-05T11:18:10.227372",
     "status": "completed"
    },
    "tags": []
   },
   "outputs": [
    {
     "data": {
      "text/html": [
       "<div>\n",
       "<style scoped>\n",
       "    .dataframe tbody tr th:only-of-type {\n",
       "        vertical-align: middle;\n",
       "    }\n",
       "\n",
       "    .dataframe tbody tr th {\n",
       "        vertical-align: top;\n",
       "    }\n",
       "\n",
       "    .dataframe thead th {\n",
       "        text-align: right;\n",
       "    }\n",
       "</style>\n",
       "<table border=\"1\" class=\"dataframe\">\n",
       "  <thead>\n",
       "    <tr style=\"text-align: right;\">\n",
       "      <th></th>\n",
       "      <th>set_num</th>\n",
       "      <th>name</th>\n",
       "      <th>year</th>\n",
       "      <th>theme_id</th>\n",
       "      <th>num_parts</th>\n",
       "      <th>id</th>\n",
       "      <th>version</th>\n",
       "    </tr>\n",
       "  </thead>\n",
       "  <tbody>\n",
       "    <tr>\n",
       "      <th>0</th>\n",
       "      <td>00-1</td>\n",
       "      <td>Weetabix Castle</td>\n",
       "      <td>1970</td>\n",
       "      <td>414</td>\n",
       "      <td>471</td>\n",
       "      <td>5574</td>\n",
       "      <td>1</td>\n",
       "    </tr>\n",
       "    <tr>\n",
       "      <th>1</th>\n",
       "      <td>0011-2</td>\n",
       "      <td>Town Mini-Figures</td>\n",
       "      <td>1978</td>\n",
       "      <td>84</td>\n",
       "      <td>12</td>\n",
       "      <td>5087</td>\n",
       "      <td>1</td>\n",
       "    </tr>\n",
       "    <tr>\n",
       "      <th>2</th>\n",
       "      <td>0011-3</td>\n",
       "      <td>Castle 2 for 1 Bonus Offer</td>\n",
       "      <td>1987</td>\n",
       "      <td>199</td>\n",
       "      <td>2</td>\n",
       "      <td>2216</td>\n",
       "      <td>1</td>\n",
       "    </tr>\n",
       "    <tr>\n",
       "      <th>3</th>\n",
       "      <td>0012-1</td>\n",
       "      <td>Space Mini-Figures</td>\n",
       "      <td>1979</td>\n",
       "      <td>143</td>\n",
       "      <td>12</td>\n",
       "      <td>1414</td>\n",
       "      <td>1</td>\n",
       "    </tr>\n",
       "    <tr>\n",
       "      <th>4</th>\n",
       "      <td>0013-1</td>\n",
       "      <td>Space Mini-Figures</td>\n",
       "      <td>1979</td>\n",
       "      <td>143</td>\n",
       "      <td>12</td>\n",
       "      <td>4609</td>\n",
       "      <td>1</td>\n",
       "    </tr>\n",
       "  </tbody>\n",
       "</table>\n",
       "</div>"
      ],
      "text/plain": [
       "  set_num                        name  year  theme_id  num_parts    id  \\\n",
       "0    00-1             Weetabix Castle  1970       414        471  5574   \n",
       "1  0011-2           Town Mini-Figures  1978        84         12  5087   \n",
       "2  0011-3  Castle 2 for 1 Bonus Offer  1987       199          2  2216   \n",
       "3  0012-1          Space Mini-Figures  1979       143         12  1414   \n",
       "4  0013-1          Space Mini-Figures  1979       143         12  4609   \n",
       "\n",
       "   version  \n",
       "0        1  \n",
       "1        1  \n",
       "2        1  \n",
       "3        1  \n",
       "4        1  "
      ]
     },
     "execution_count": 20,
     "metadata": {},
     "output_type": "execute_result"
    }
   ],
   "source": [
    "df_sets.merge(df_inventories, how = 'inner', on = 'set_num').head(5)\n",
    "\n",
    "#or if columns are matching\n",
    "\n",
    "df_sets.merge(df_inventories, on = 'set_num').head(5)\n",
    "\n",
    "#or explicitly defined columns\n",
    "\n",
    "df_sets.merge(df_inventories, how = 'inner', left_on = 'set_num', right_on = 'set_num').head(5)"
   ]
  },
  {
   "cell_type": "markdown",
   "metadata": {
    "papermill": {
     "duration": 0.067761,
     "end_time": "2020-12-05T11:18:10.489266",
     "exception": false,
     "start_time": "2020-12-05T11:18:10.421505",
     "status": "completed"
    },
    "tags": []
   },
   "source": [
    "To see witch parts are needed for the *Pizzeria* we combine some tables. We look for the inventory of the set and gather all parts. Then we get color and part category information.\n",
    "\n",
    "We end up with an inventory list:\n",
    "```sql\n",
    "SELECT s.set_num, \n",
    "       s.name set_name, \n",
    "       p.part_num, \n",
    "       p.name part_name, \n",
    "       ip.quantity,\n",
    "       c.name color,\n",
    "       pc.name part_cat\n",
    "  FROM sets s,\n",
    "       inventories i,\n",
    "       inventory_parts ip,\n",
    "       parts p,\n",
    "       colors c,\n",
    "       part_categories pc\n",
    " WHERE s.set_num = i.set_num\n",
    "   AND i.id = ip.inventory_id\n",
    "   AND ip.part_num = p.part_num\n",
    "   AND ip.color_id = c.id\n",
    "   AND p.part_cat_id = pc.id \n",
    "   AND s.set_num in ('41311-1')\n",
    "   AND i.version = 1\n",
    "   AND ip.is_spare = 'f'\n",
    " ORDER BY p.name, s.set_num, c.name\n",
    "LIMIT 10\n",
    "```"
   ]
  },
  {
   "cell_type": "code",
   "execution_count": 21,
   "metadata": {
    "_kg_hide-input": true,
    "jupyter": {
     "source_hidden": true
    },
    "papermill": {
     "duration": 0.830174,
     "end_time": "2020-12-05T11:18:11.387508",
     "exception": false,
     "start_time": "2020-12-05T11:18:10.557334",
     "status": "completed"
    },
    "tags": []
   },
   "outputs": [
    {
     "name": "stdout",
     "output_type": "stream",
     "text": [
      " * sqlite:///lego.db\n",
      "Done.\n"
     ]
    },
    {
     "data": {
      "text/html": [
       "<table>\n",
       "    <tr>\n",
       "        <th>set_num</th>\n",
       "        <th>set_name</th>\n",
       "        <th>part_num</th>\n",
       "        <th>part_name</th>\n",
       "        <th>quantity</th>\n",
       "        <th>color</th>\n",
       "        <th>part_cat</th>\n",
       "    </tr>\n",
       "    <tr>\n",
       "        <td>41311-1</td>\n",
       "        <td>Heartlake Pizzeria</td>\n",
       "        <td>25269pr03</td>\n",
       "        <td>1/4 CIRCLE TILE 1X1 with Pizza Print</td>\n",
       "        <td>4</td>\n",
       "        <td>Tan</td>\n",
       "        <td>Tiles Printed</td>\n",
       "    </tr>\n",
       "    <tr>\n",
       "        <td>41311-1</td>\n",
       "        <td>Heartlake Pizzeria</td>\n",
       "        <td>32807</td>\n",
       "        <td>BRICK 1X1X1 1/3, W/ ARCH</td>\n",
       "        <td>4</td>\n",
       "        <td>Red</td>\n",
       "        <td>Other</td>\n",
       "    </tr>\n",
       "    <tr>\n",
       "        <td>41311-1</td>\n",
       "        <td>Heartlake Pizzeria</td>\n",
       "        <td>6190</td>\n",
       "        <td>Bar 1 x 3 (Radio Handle, Phone Handset)</td>\n",
       "        <td>1</td>\n",
       "        <td>Red</td>\n",
       "        <td>Bars, Ladders and Fences</td>\n",
       "    </tr>\n",
       "    <tr>\n",
       "        <td>41311-1</td>\n",
       "        <td>Heartlake Pizzeria</td>\n",
       "        <td>30374</td>\n",
       "        <td>Bar 4L (Lightsaber Blade / Wand)</td>\n",
       "        <td>1</td>\n",
       "        <td>Light Bluish Gray</td>\n",
       "        <td>Bars, Ladders and Fences</td>\n",
       "    </tr>\n",
       "    <tr>\n",
       "        <td>41311-1</td>\n",
       "        <td>Heartlake Pizzeria</td>\n",
       "        <td>99207</td>\n",
       "        <td>Bracket 1 x 2 - 2 x 2 Inverted</td>\n",
       "        <td>1</td>\n",
       "        <td>Black</td>\n",
       "        <td>Plates Special</td>\n",
       "    </tr>\n",
       "    <tr>\n",
       "        <td>41311-1</td>\n",
       "        <td>Heartlake Pizzeria</td>\n",
       "        <td>2453b</td>\n",
       "        <td>Brick 1 x 1 x 5 with Solid Stud</td>\n",
       "        <td>4</td>\n",
       "        <td>Tan</td>\n",
       "        <td>Bricks</td>\n",
       "    </tr>\n",
       "    <tr>\n",
       "        <td>41311-1</td>\n",
       "        <td>Heartlake Pizzeria</td>\n",
       "        <td>3004</td>\n",
       "        <td>Brick 1 x 2</td>\n",
       "        <td>4</td>\n",
       "        <td>Light Bluish Gray</td>\n",
       "        <td>Bricks</td>\n",
       "    </tr>\n",
       "    <tr>\n",
       "        <td>41311-1</td>\n",
       "        <td>Heartlake Pizzeria</td>\n",
       "        <td>3004</td>\n",
       "        <td>Brick 1 x 2</td>\n",
       "        <td>3</td>\n",
       "        <td>Tan</td>\n",
       "        <td>Bricks</td>\n",
       "    </tr>\n",
       "    <tr>\n",
       "        <td>41311-1</td>\n",
       "        <td>Heartlake Pizzeria</td>\n",
       "        <td>3004</td>\n",
       "        <td>Brick 1 x 2</td>\n",
       "        <td>1</td>\n",
       "        <td>White</td>\n",
       "        <td>Bricks</td>\n",
       "    </tr>\n",
       "    <tr>\n",
       "        <td>41311-1</td>\n",
       "        <td>Heartlake Pizzeria</td>\n",
       "        <td>3245b</td>\n",
       "        <td>Brick 1 x 2 x 2 with Inside Axle Holder</td>\n",
       "        <td>2</td>\n",
       "        <td>White</td>\n",
       "        <td>Bricks</td>\n",
       "    </tr>\n",
       "</table>"
      ],
      "text/plain": [
       "[('41311-1', 'Heartlake Pizzeria', '25269pr03', '1/4 CIRCLE TILE 1X1 with Pizza Print', 4, 'Tan', 'Tiles Printed'),\n",
       " ('41311-1', 'Heartlake Pizzeria', '32807', 'BRICK 1X1X1 1/3, W/ ARCH', 4, 'Red', 'Other'),\n",
       " ('41311-1', 'Heartlake Pizzeria', '6190', 'Bar 1 x 3 (Radio Handle, Phone Handset)', 1, 'Red', 'Bars, Ladders and Fences'),\n",
       " ('41311-1', 'Heartlake Pizzeria', '30374', 'Bar 4L (Lightsaber Blade / Wand)', 1, 'Light Bluish Gray', 'Bars, Ladders and Fences'),\n",
       " ('41311-1', 'Heartlake Pizzeria', '99207', 'Bracket 1 x 2 - 2 x 2 Inverted', 1, 'Black', 'Plates Special'),\n",
       " ('41311-1', 'Heartlake Pizzeria', '2453b', 'Brick 1 x 1 x 5 with Solid Stud', 4, 'Tan', 'Bricks'),\n",
       " ('41311-1', 'Heartlake Pizzeria', '3004', 'Brick 1 x 2', 4, 'Light Bluish Gray', 'Bricks'),\n",
       " ('41311-1', 'Heartlake Pizzeria', '3004', 'Brick 1 x 2', 3, 'Tan', 'Bricks'),\n",
       " ('41311-1', 'Heartlake Pizzeria', '3004', 'Brick 1 x 2', 1, 'White', 'Bricks'),\n",
       " ('41311-1', 'Heartlake Pizzeria', '3245b', 'Brick 1 x 2 x 2 with Inside Axle Holder', 2, 'White', 'Bricks')]"
      ]
     },
     "execution_count": 21,
     "metadata": {},
     "output_type": "execute_result"
    }
   ],
   "source": [
    "%%sql\n",
    "SELECT s.set_num, \n",
    "       s.name set_name, \n",
    "       p.part_num, \n",
    "       p.name part_name, \n",
    "       ip.quantity,\n",
    "       c.name color,\n",
    "       pc.name part_cat\n",
    "  FROM sets s,\n",
    "       inventories i,\n",
    "       inventory_parts ip,\n",
    "       parts p,\n",
    "       colors c,\n",
    "       part_categories pc\n",
    " WHERE s.set_num = i.set_num\n",
    "   AND i.id = ip.inventory_id\n",
    "   AND ip.part_num = p.part_num\n",
    "   AND ip.color_id = c.id\n",
    "   AND p.part_cat_id = pc.id \n",
    "   AND s.set_num in ('41311-1')\n",
    "   AND i.version = 1\n",
    "   AND ip.is_spare = 'f'\n",
    " ORDER BY p.name, s.set_num, c.name\n",
    "LIMIT 10"
   ]
  },
  {
   "cell_type": "markdown",
   "metadata": {
    "papermill": {
     "duration": 0.069354,
     "end_time": "2020-12-05T11:18:11.527292",
     "exception": false,
     "start_time": "2020-12-05T11:18:11.457938",
     "status": "completed"
    },
    "tags": []
   },
   "source": [
    "Lets create a general `inventory_list` as view and make the statement more readable and comparable with ANSI-syntax (separating filters/predicates from join conditions).\n",
    "```sql\n",
    "DROP VIEW IF EXISTS inventory_list;\n",
    "CREATE VIEW inventory_list AS\n",
    "SELECT s.set_num, \n",
    "       s.name set_name, \n",
    "       s.theme_id,\n",
    "       s.num_parts,\n",
    "       p.part_num, \n",
    "       ip.quantity,\n",
    "       p.name part_name, \n",
    "       c.name color,\n",
    "       pc.name part_cat\n",
    "  FROM sets s\n",
    " INNER JOIN\n",
    "       inventories i\n",
    " USING (set_num)\n",
    " INNER JOIN\n",
    "       inventory_parts ip\n",
    "    ON (i.id = ip.inventory_id)\n",
    " INNER JOIN\n",
    "       parts p\n",
    " USING (part_num)\n",
    " INNER JOIN\n",
    "       colors c\n",
    "    ON (ip.color_id = c.id)\n",
    " INNER JOIN\n",
    "       part_categories pc\n",
    "    ON (p.part_cat_id = pc.id)\n",
    " WHERE i.version = 1\n",
    "   AND ip.is_spare = 'f';\n",
    "```"
   ]
  },
  {
   "cell_type": "code",
   "execution_count": 22,
   "metadata": {
    "_kg_hide-input": true,
    "_kg_hide-output": true,
    "jupyter": {
     "source_hidden": true
    },
    "papermill": {
     "duration": 0.10524,
     "end_time": "2020-12-05T11:18:11.702631",
     "exception": false,
     "start_time": "2020-12-05T11:18:11.597391",
     "status": "completed"
    },
    "tags": []
   },
   "outputs": [
    {
     "name": "stdout",
     "output_type": "stream",
     "text": [
      " * sqlite:///lego.db\n",
      "Done.\n",
      "Done.\n"
     ]
    },
    {
     "data": {
      "text/plain": [
       "[]"
      ]
     },
     "execution_count": 22,
     "metadata": {},
     "output_type": "execute_result"
    }
   ],
   "source": [
    "%%sql\n",
    "-- BQ: add schema infront of table, e.g. lego.colors\n",
    "DROP VIEW IF EXISTS inventory_list;\n",
    "CREATE VIEW inventory_list AS\n",
    "SELECT s.set_num, \n",
    "       s.name set_name, \n",
    "       s.theme_id,\n",
    "       s.num_parts,\n",
    "       p.part_num, \n",
    "       ip.quantity,\n",
    "       p.name part_name, \n",
    "       c.name color,\n",
    "       pc.name part_cat\n",
    "  FROM sets s\n",
    "--  FROM lego.sets s\n",
    " INNER JOIN\n",
    "       inventories i\n",
    "--       lego.inventories i\n",
    " USING (set_num)\n",
    " INNER JOIN\n",
    "       inventory_parts ip\n",
    "--       lego.inventory_parts ip\n",
    "    ON (i.id = ip.inventory_id)\n",
    " INNER JOIN\n",
    "       parts p\n",
    "--       lego.parts p\n",
    " USING (part_num)\n",
    " INNER JOIN\n",
    "       colors c\n",
    "--       lego.colors c\n",
    "    ON (ip.color_id = c.id)\n",
    " INNER JOIN\n",
    "       part_categories pc\n",
    "--       lego.part_categories pc\n",
    "    ON (p.part_cat_id = pc.id)\n",
    " WHERE i.version = 1\n",
    "   AND ip.is_spare = 'f';\n"
   ]
  },
  {
   "cell_type": "markdown",
   "metadata": {
    "papermill": {
     "duration": 0.070148,
     "end_time": "2020-12-05T11:18:11.843785",
     "exception": false,
     "start_time": "2020-12-05T11:18:11.773637",
     "status": "completed"
    },
    "tags": []
   },
   "source": [
    "Now we translate the view to pandas. We see how the structure relates to sql. The parameter `how` defines the type of join (here: `inner`), `on` represents the `USING` clause whereas `left_on` and `right_on` stand for the SQL `ON` condition.\n",
    "\n",
    "In SQL usually an optimizer defines based in rules or statistics the execution plan (the order in which the tables are accessed, combined and filtered). I'm not sure if Pandas follows a similar approache. To be safe, I assume the order and early column dropping might matter for performance and memory management."
   ]
  },
  {
   "cell_type": "code",
   "execution_count": 23,
   "metadata": {
    "papermill": {
     "duration": 1.246955,
     "end_time": "2020-12-05T11:18:13.161535",
     "exception": false,
     "start_time": "2020-12-05T11:18:11.914580",
     "status": "completed"
    },
    "tags": []
   },
   "outputs": [],
   "source": [
    "df_inventory_list = df_sets[['set_num', 'name', 'theme_id', 'num_parts']] \\\n",
    "                    .merge(\n",
    "                    df_inventories[df_inventories['version'] == 1][['id', 'set_num']],\n",
    "                        how = 'inner',\n",
    "                        on = 'set_num'\n",
    "                    ) \\\n",
    "                    .merge(\n",
    "                    df_inventory_parts[df_inventory_parts['is_spare'] == 'f'][['inventory_id', 'part_num', 'color_id', 'quantity']],\n",
    "                        how = 'inner',\n",
    "                        left_on = 'id',\n",
    "                        right_on = 'inventory_id'\n",
    "                    ) \\\n",
    "                    .merge(\n",
    "                    df_parts[['part_num', 'name', 'part_cat_id']],\n",
    "                        how = 'inner',\n",
    "                        on = 'part_num'\n",
    "                    ) \\\n",
    "                    .merge(\n",
    "                    df_colors[['id', 'name']],\n",
    "                        how = 'inner',\n",
    "                        left_on = 'color_id',\n",
    "                        right_on = 'id'\n",
    "                    ) \\\n",
    "                    .merge(\n",
    "                    df_part_categories[['id', 'name']],\n",
    "                        how = 'inner',\n",
    "                        left_on = 'part_cat_id',\n",
    "                        right_on = 'id'\n",
    "                    )\n",
    "\n",
    "# remove some columns and use index as row number (reset_index)\n",
    "df_inventory_list = df_inventory_list.drop(['id_x', 'inventory_id', 'color_id', 'part_cat_id', 'id_y', 'id'], axis = 1).reset_index(drop = True)\n",
    "\n",
    "# rename columns\n",
    "df_inventory_list.columns = ['set_num', 'set_name', 'theme_id', 'num_parts', 'part_num', 'quantity', 'part_name', 'color', 'part_cat']"
   ]
  },
  {
   "cell_type": "markdown",
   "metadata": {
    "papermill": {
     "duration": 0.071766,
     "end_time": "2020-12-05T11:18:13.306928",
     "exception": false,
     "start_time": "2020-12-05T11:18:13.235162",
     "status": "completed"
    },
    "tags": []
   },
   "source": [
    "Lots of code here. So we better check if our Pandas code matches the results of our SQL code.\n",
    "\n",
    "Select the inventory list for our example, write it to a dataframe (`df_test_from_sql`) and compare the results.\n",
    "```sql\n",
    "df_test_from_sql <<\n",
    "SELECT il.* \n",
    "  FROM inventory_list il\n",
    " WHERE il.set_num in ('41311-1')\n",
    " ORDER BY \n",
    "       il.part_name, \n",
    "       il.set_num, \n",
    "       il.color\n",
    "LIMIT 10;\n",
    "```"
   ]
  },
  {
   "cell_type": "code",
   "execution_count": 24,
   "metadata": {
    "_kg_hide-input": true,
    "_kg_hide-output": true,
    "papermill": {
     "duration": 0.91088,
     "end_time": "2020-12-05T11:18:14.294012",
     "exception": false,
     "start_time": "2020-12-05T11:18:13.383132",
     "status": "completed"
    },
    "tags": []
   },
   "outputs": [
    {
     "name": "stdout",
     "output_type": "stream",
     "text": [
      " * sqlite:///lego.db\n",
      "Done.\n",
      "Returning data to local variable df_test_from_sql\n"
     ]
    }
   ],
   "source": [
    "%%sql df_test_from_sql <<\n",
    "SELECT il.* \n",
    "  FROM inventory_list il\n",
    " WHERE il.set_num in ('41311-1')\n",
    " ORDER BY \n",
    "       il.part_name, \n",
    "       il.set_num, \n",
    "       il.color\n",
    "LIMIT 10;"
   ]
  },
  {
   "cell_type": "code",
   "execution_count": 25,
   "metadata": {
    "papermill": {
     "duration": 0.086035,
     "end_time": "2020-12-05T11:18:14.453889",
     "exception": false,
     "start_time": "2020-12-05T11:18:14.367854",
     "status": "completed"
    },
    "tags": []
   },
   "outputs": [
    {
     "data": {
      "text/html": [
       "<table>\n",
       "    <tr>\n",
       "        <th>set_num</th>\n",
       "        <th>set_name</th>\n",
       "        <th>theme_id</th>\n",
       "        <th>num_parts</th>\n",
       "        <th>part_num</th>\n",
       "        <th>quantity</th>\n",
       "        <th>part_name</th>\n",
       "        <th>color</th>\n",
       "        <th>part_cat</th>\n",
       "    </tr>\n",
       "    <tr>\n",
       "        <td>41311-1</td>\n",
       "        <td>Heartlake Pizzeria</td>\n",
       "        <td>494</td>\n",
       "        <td>287</td>\n",
       "        <td>25269pr03</td>\n",
       "        <td>4</td>\n",
       "        <td>1/4 CIRCLE TILE 1X1 with Pizza Print</td>\n",
       "        <td>Tan</td>\n",
       "        <td>Tiles Printed</td>\n",
       "    </tr>\n",
       "    <tr>\n",
       "        <td>41311-1</td>\n",
       "        <td>Heartlake Pizzeria</td>\n",
       "        <td>494</td>\n",
       "        <td>287</td>\n",
       "        <td>32807</td>\n",
       "        <td>4</td>\n",
       "        <td>BRICK 1X1X1 1/3, W/ ARCH</td>\n",
       "        <td>Red</td>\n",
       "        <td>Other</td>\n",
       "    </tr>\n",
       "    <tr>\n",
       "        <td>41311-1</td>\n",
       "        <td>Heartlake Pizzeria</td>\n",
       "        <td>494</td>\n",
       "        <td>287</td>\n",
       "        <td>6190</td>\n",
       "        <td>1</td>\n",
       "        <td>Bar 1 x 3 (Radio Handle, Phone Handset)</td>\n",
       "        <td>Red</td>\n",
       "        <td>Bars, Ladders and Fences</td>\n",
       "    </tr>\n",
       "    <tr>\n",
       "        <td>41311-1</td>\n",
       "        <td>Heartlake Pizzeria</td>\n",
       "        <td>494</td>\n",
       "        <td>287</td>\n",
       "        <td>30374</td>\n",
       "        <td>1</td>\n",
       "        <td>Bar 4L (Lightsaber Blade / Wand)</td>\n",
       "        <td>Light Bluish Gray</td>\n",
       "        <td>Bars, Ladders and Fences</td>\n",
       "    </tr>\n",
       "    <tr>\n",
       "        <td>41311-1</td>\n",
       "        <td>Heartlake Pizzeria</td>\n",
       "        <td>494</td>\n",
       "        <td>287</td>\n",
       "        <td>99207</td>\n",
       "        <td>1</td>\n",
       "        <td>Bracket 1 x 2 - 2 x 2 Inverted</td>\n",
       "        <td>Black</td>\n",
       "        <td>Plates Special</td>\n",
       "    </tr>\n",
       "    <tr>\n",
       "        <td>41311-1</td>\n",
       "        <td>Heartlake Pizzeria</td>\n",
       "        <td>494</td>\n",
       "        <td>287</td>\n",
       "        <td>2453b</td>\n",
       "        <td>4</td>\n",
       "        <td>Brick 1 x 1 x 5 with Solid Stud</td>\n",
       "        <td>Tan</td>\n",
       "        <td>Bricks</td>\n",
       "    </tr>\n",
       "    <tr>\n",
       "        <td>41311-1</td>\n",
       "        <td>Heartlake Pizzeria</td>\n",
       "        <td>494</td>\n",
       "        <td>287</td>\n",
       "        <td>3004</td>\n",
       "        <td>4</td>\n",
       "        <td>Brick 1 x 2</td>\n",
       "        <td>Light Bluish Gray</td>\n",
       "        <td>Bricks</td>\n",
       "    </tr>\n",
       "    <tr>\n",
       "        <td>41311-1</td>\n",
       "        <td>Heartlake Pizzeria</td>\n",
       "        <td>494</td>\n",
       "        <td>287</td>\n",
       "        <td>3004</td>\n",
       "        <td>3</td>\n",
       "        <td>Brick 1 x 2</td>\n",
       "        <td>Tan</td>\n",
       "        <td>Bricks</td>\n",
       "    </tr>\n",
       "    <tr>\n",
       "        <td>41311-1</td>\n",
       "        <td>Heartlake Pizzeria</td>\n",
       "        <td>494</td>\n",
       "        <td>287</td>\n",
       "        <td>3004</td>\n",
       "        <td>1</td>\n",
       "        <td>Brick 1 x 2</td>\n",
       "        <td>White</td>\n",
       "        <td>Bricks</td>\n",
       "    </tr>\n",
       "    <tr>\n",
       "        <td>41311-1</td>\n",
       "        <td>Heartlake Pizzeria</td>\n",
       "        <td>494</td>\n",
       "        <td>287</td>\n",
       "        <td>3245b</td>\n",
       "        <td>2</td>\n",
       "        <td>Brick 1 x 2 x 2 with Inside Axle Holder</td>\n",
       "        <td>White</td>\n",
       "        <td>Bricks</td>\n",
       "    </tr>\n",
       "</table>"
      ],
      "text/plain": [
       "[('41311-1', 'Heartlake Pizzeria', 494, 287, '25269pr03', 4, '1/4 CIRCLE TILE 1X1 with Pizza Print', 'Tan', 'Tiles Printed'),\n",
       " ('41311-1', 'Heartlake Pizzeria', 494, 287, '32807', 4, 'BRICK 1X1X1 1/3, W/ ARCH', 'Red', 'Other'),\n",
       " ('41311-1', 'Heartlake Pizzeria', 494, 287, '6190', 1, 'Bar 1 x 3 (Radio Handle, Phone Handset)', 'Red', 'Bars, Ladders and Fences'),\n",
       " ('41311-1', 'Heartlake Pizzeria', 494, 287, '30374', 1, 'Bar 4L (Lightsaber Blade / Wand)', 'Light Bluish Gray', 'Bars, Ladders and Fences'),\n",
       " ('41311-1', 'Heartlake Pizzeria', 494, 287, '99207', 1, 'Bracket 1 x 2 - 2 x 2 Inverted', 'Black', 'Plates Special'),\n",
       " ('41311-1', 'Heartlake Pizzeria', 494, 287, '2453b', 4, 'Brick 1 x 1 x 5 with Solid Stud', 'Tan', 'Bricks'),\n",
       " ('41311-1', 'Heartlake Pizzeria', 494, 287, '3004', 4, 'Brick 1 x 2', 'Light Bluish Gray', 'Bricks'),\n",
       " ('41311-1', 'Heartlake Pizzeria', 494, 287, '3004', 3, 'Brick 1 x 2', 'Tan', 'Bricks'),\n",
       " ('41311-1', 'Heartlake Pizzeria', 494, 287, '3004', 1, 'Brick 1 x 2', 'White', 'Bricks'),\n",
       " ('41311-1', 'Heartlake Pizzeria', 494, 287, '3245b', 2, 'Brick 1 x 2 x 2 with Inside Axle Holder', 'White', 'Bricks')]"
      ]
     },
     "execution_count": 25,
     "metadata": {},
     "output_type": "execute_result"
    }
   ],
   "source": [
    "df_test_from_sql"
   ]
  },
  {
   "cell_type": "code",
   "execution_count": 26,
   "metadata": {
    "papermill": {
     "duration": 0.123595,
     "end_time": "2020-12-05T11:18:14.651220",
     "exception": false,
     "start_time": "2020-12-05T11:18:14.527625",
     "status": "completed"
    },
    "tags": []
   },
   "outputs": [
    {
     "data": {
      "text/html": [
       "<div>\n",
       "<style scoped>\n",
       "    .dataframe tbody tr th:only-of-type {\n",
       "        vertical-align: middle;\n",
       "    }\n",
       "\n",
       "    .dataframe tbody tr th {\n",
       "        vertical-align: top;\n",
       "    }\n",
       "\n",
       "    .dataframe thead th {\n",
       "        text-align: right;\n",
       "    }\n",
       "</style>\n",
       "<table border=\"1\" class=\"dataframe\">\n",
       "  <thead>\n",
       "    <tr style=\"text-align: right;\">\n",
       "      <th></th>\n",
       "      <th>set_num</th>\n",
       "      <th>set_name</th>\n",
       "      <th>theme_id</th>\n",
       "      <th>num_parts</th>\n",
       "      <th>part_num</th>\n",
       "      <th>quantity</th>\n",
       "      <th>part_name</th>\n",
       "      <th>color</th>\n",
       "      <th>part_cat</th>\n",
       "    </tr>\n",
       "  </thead>\n",
       "  <tbody>\n",
       "    <tr>\n",
       "      <th>507161</th>\n",
       "      <td>41311-1</td>\n",
       "      <td>Heartlake Pizzeria</td>\n",
       "      <td>494</td>\n",
       "      <td>287</td>\n",
       "      <td>25269pr03</td>\n",
       "      <td>4</td>\n",
       "      <td>1/4 CIRCLE TILE 1X1 with Pizza Print</td>\n",
       "      <td>Tan</td>\n",
       "      <td>Tiles Printed</td>\n",
       "    </tr>\n",
       "    <tr>\n",
       "      <th>543292</th>\n",
       "      <td>41311-1</td>\n",
       "      <td>Heartlake Pizzeria</td>\n",
       "      <td>494</td>\n",
       "      <td>287</td>\n",
       "      <td>32807</td>\n",
       "      <td>4</td>\n",
       "      <td>BRICK 1X1X1 1/3, W/ ARCH</td>\n",
       "      <td>Red</td>\n",
       "      <td>Other</td>\n",
       "    </tr>\n",
       "    <tr>\n",
       "      <th>266022</th>\n",
       "      <td>41311-1</td>\n",
       "      <td>Heartlake Pizzeria</td>\n",
       "      <td>494</td>\n",
       "      <td>287</td>\n",
       "      <td>6190</td>\n",
       "      <td>1</td>\n",
       "      <td>Bar 1 x 3 (Radio Handle, Phone Handset)</td>\n",
       "      <td>Red</td>\n",
       "      <td>Bars, Ladders and Fences</td>\n",
       "    </tr>\n",
       "    <tr>\n",
       "      <th>273113</th>\n",
       "      <td>41311-1</td>\n",
       "      <td>Heartlake Pizzeria</td>\n",
       "      <td>494</td>\n",
       "      <td>287</td>\n",
       "      <td>30374</td>\n",
       "      <td>1</td>\n",
       "      <td>Bar 4L (Lightsaber Blade / Wand)</td>\n",
       "      <td>Light Bluish Gray</td>\n",
       "      <td>Bars, Ladders and Fences</td>\n",
       "    </tr>\n",
       "    <tr>\n",
       "      <th>306863</th>\n",
       "      <td>41311-1</td>\n",
       "      <td>Heartlake Pizzeria</td>\n",
       "      <td>494</td>\n",
       "      <td>287</td>\n",
       "      <td>99207</td>\n",
       "      <td>1</td>\n",
       "      <td>Bracket 1 x 2 - 2 x 2 Inverted</td>\n",
       "      <td>Black</td>\n",
       "      <td>Plates Special</td>\n",
       "    </tr>\n",
       "    <tr>\n",
       "      <th>47206</th>\n",
       "      <td>41311-1</td>\n",
       "      <td>Heartlake Pizzeria</td>\n",
       "      <td>494</td>\n",
       "      <td>287</td>\n",
       "      <td>2453b</td>\n",
       "      <td>4</td>\n",
       "      <td>Brick 1 x 1 x 5 with Solid Stud</td>\n",
       "      <td>Tan</td>\n",
       "      <td>Bricks</td>\n",
       "    </tr>\n",
       "    <tr>\n",
       "      <th>50211</th>\n",
       "      <td>41311-1</td>\n",
       "      <td>Heartlake Pizzeria</td>\n",
       "      <td>494</td>\n",
       "      <td>287</td>\n",
       "      <td>3004</td>\n",
       "      <td>4</td>\n",
       "      <td>Brick 1 x 2</td>\n",
       "      <td>Light Bluish Gray</td>\n",
       "      <td>Bricks</td>\n",
       "    </tr>\n",
       "    <tr>\n",
       "      <th>45716</th>\n",
       "      <td>41311-1</td>\n",
       "      <td>Heartlake Pizzeria</td>\n",
       "      <td>494</td>\n",
       "      <td>287</td>\n",
       "      <td>3004</td>\n",
       "      <td>3</td>\n",
       "      <td>Brick 1 x 2</td>\n",
       "      <td>Tan</td>\n",
       "      <td>Bricks</td>\n",
       "    </tr>\n",
       "    <tr>\n",
       "      <th>16485</th>\n",
       "      <td>41311-1</td>\n",
       "      <td>Heartlake Pizzeria</td>\n",
       "      <td>494</td>\n",
       "      <td>287</td>\n",
       "      <td>3004</td>\n",
       "      <td>1</td>\n",
       "      <td>Brick 1 x 2</td>\n",
       "      <td>White</td>\n",
       "      <td>Bricks</td>\n",
       "    </tr>\n",
       "    <tr>\n",
       "      <th>22890</th>\n",
       "      <td>41311-1</td>\n",
       "      <td>Heartlake Pizzeria</td>\n",
       "      <td>494</td>\n",
       "      <td>287</td>\n",
       "      <td>3245b</td>\n",
       "      <td>2</td>\n",
       "      <td>Brick 1 x 2 x 2 with Inside Axle Holder</td>\n",
       "      <td>White</td>\n",
       "      <td>Bricks</td>\n",
       "    </tr>\n",
       "  </tbody>\n",
       "</table>\n",
       "</div>"
      ],
      "text/plain": [
       "        set_num            set_name  theme_id  num_parts   part_num  quantity  \\\n",
       "507161  41311-1  Heartlake Pizzeria       494        287  25269pr03         4   \n",
       "543292  41311-1  Heartlake Pizzeria       494        287      32807         4   \n",
       "266022  41311-1  Heartlake Pizzeria       494        287       6190         1   \n",
       "273113  41311-1  Heartlake Pizzeria       494        287      30374         1   \n",
       "306863  41311-1  Heartlake Pizzeria       494        287      99207         1   \n",
       "47206   41311-1  Heartlake Pizzeria       494        287      2453b         4   \n",
       "50211   41311-1  Heartlake Pizzeria       494        287       3004         4   \n",
       "45716   41311-1  Heartlake Pizzeria       494        287       3004         3   \n",
       "16485   41311-1  Heartlake Pizzeria       494        287       3004         1   \n",
       "22890   41311-1  Heartlake Pizzeria       494        287      3245b         2   \n",
       "\n",
       "                                      part_name              color  \\\n",
       "507161     1/4 CIRCLE TILE 1X1 with Pizza Print                Tan   \n",
       "543292                 BRICK 1X1X1 1/3, W/ ARCH                Red   \n",
       "266022  Bar 1 x 3 (Radio Handle, Phone Handset)                Red   \n",
       "273113         Bar 4L (Lightsaber Blade / Wand)  Light Bluish Gray   \n",
       "306863           Bracket 1 x 2 - 2 x 2 Inverted              Black   \n",
       "47206           Brick 1 x 1 x 5 with Solid Stud                Tan   \n",
       "50211                               Brick 1 x 2  Light Bluish Gray   \n",
       "45716                               Brick 1 x 2                Tan   \n",
       "16485                               Brick 1 x 2              White   \n",
       "22890   Brick 1 x 2 x 2 with Inside Axle Holder              White   \n",
       "\n",
       "                        part_cat  \n",
       "507161             Tiles Printed  \n",
       "543292                     Other  \n",
       "266022  Bars, Ladders and Fences  \n",
       "273113  Bars, Ladders and Fences  \n",
       "306863            Plates Special  \n",
       "47206                     Bricks  \n",
       "50211                     Bricks  \n",
       "45716                     Bricks  \n",
       "16485                     Bricks  \n",
       "22890                     Bricks  "
      ]
     },
     "execution_count": 26,
     "metadata": {},
     "output_type": "execute_result"
    }
   ],
   "source": [
    "# test\n",
    "df_test_from_df = df_inventory_list[df_inventory_list['set_num'].isin(['41311-1'])].sort_values(by=['part_name', 'set_num', 'color']).head(10)\n",
    "\n",
    "df_test_from_df"
   ]
  },
  {
   "cell_type": "code",
   "execution_count": 27,
   "metadata": {
    "papermill": {
     "duration": 0.090843,
     "end_time": "2020-12-05T11:18:14.816982",
     "exception": false,
     "start_time": "2020-12-05T11:18:14.726139",
     "status": "completed"
    },
    "tags": []
   },
   "outputs": [],
   "source": [
    "# assert equals\n",
    "if not USE_BIGQUERY:\n",
    "    df_test_from_sql = df_test_from_sql.DataFrame()\n",
    "    \n",
    "pd._testing.assert_frame_equal(df_test_from_sql, df_test_from_df.reset_index(drop = True))"
   ]
  },
  {
   "cell_type": "markdown",
   "metadata": {
    "papermill": {
     "duration": 0.073346,
     "end_time": "2020-12-05T11:18:14.964383",
     "exception": false,
     "start_time": "2020-12-05T11:18:14.891037",
     "status": "completed"
    },
    "tags": []
   },
   "source": [
    "The results are equal as expected.\n",
    "\n",
    "Since we are only interested in the red bricks we create a list of those missing parts.\n",
    "```sql\n",
    "SELECT *\n",
    "  FROM inventory_list il\n",
    " WHERE il.set_num = '41311-1'\n",
    "   AND part_cat like '%Brick%'\n",
    "   AND color = 'Red'\n",
    " ORDER BY \n",
    "       il.color, \n",
    "       il.part_name, \n",
    "       il.set_num;\n",
    "```"
   ]
  },
  {
   "cell_type": "code",
   "execution_count": 28,
   "metadata": {
    "_kg_hide-input": true,
    "jupyter": {
     "source_hidden": true
    },
    "papermill": {
     "duration": 1.171977,
     "end_time": "2020-12-05T11:18:16.212132",
     "exception": false,
     "start_time": "2020-12-05T11:18:15.040155",
     "status": "completed"
    },
    "tags": []
   },
   "outputs": [
    {
     "name": "stdout",
     "output_type": "stream",
     "text": [
      " * sqlite:///lego.db\n",
      "Done.\n"
     ]
    },
    {
     "data": {
      "text/html": [
       "<table>\n",
       "    <tr>\n",
       "        <th>set_num</th>\n",
       "        <th>set_name</th>\n",
       "        <th>theme_id</th>\n",
       "        <th>num_parts</th>\n",
       "        <th>part_num</th>\n",
       "        <th>quantity</th>\n",
       "        <th>part_name</th>\n",
       "        <th>color</th>\n",
       "        <th>part_cat</th>\n",
       "    </tr>\n",
       "    <tr>\n",
       "        <td>41311-1</td>\n",
       "        <td>Heartlake Pizzeria</td>\n",
       "        <td>494</td>\n",
       "        <td>287</td>\n",
       "        <td>3039</td>\n",
       "        <td>1</td>\n",
       "        <td>Slope 45° 2 x 2</td>\n",
       "        <td>Red</td>\n",
       "        <td>Bricks Sloped</td>\n",
       "    </tr>\n",
       "    <tr>\n",
       "        <td>41311-1</td>\n",
       "        <td>Heartlake Pizzeria</td>\n",
       "        <td>494</td>\n",
       "        <td>287</td>\n",
       "        <td>3045</td>\n",
       "        <td>2</td>\n",
       "        <td>Slope 45° 2 x 2 Double Convex</td>\n",
       "        <td>Red</td>\n",
       "        <td>Bricks Sloped</td>\n",
       "    </tr>\n",
       "</table>"
      ],
      "text/plain": [
       "[('41311-1', 'Heartlake Pizzeria', 494, 287, '3039', 1, 'Slope 45° 2 x 2', 'Red', 'Bricks Sloped'),\n",
       " ('41311-1', 'Heartlake Pizzeria', 494, 287, '3045', 2, 'Slope 45° 2 x 2 Double Convex', 'Red', 'Bricks Sloped')]"
      ]
     },
     "execution_count": 28,
     "metadata": {},
     "output_type": "execute_result"
    }
   ],
   "source": [
    "%%sql\n",
    "SELECT *\n",
    "  FROM inventory_list il\n",
    " WHERE il.set_num = '41311-1'\n",
    "   AND part_cat like '%Brick%'\n",
    "   AND color = 'Red'\n",
    " ORDER BY \n",
    "       il.color, \n",
    "       il.part_name, \n",
    "       il.set_num;"
   ]
  },
  {
   "cell_type": "markdown",
   "metadata": {
    "papermill": {
     "duration": 0.080579,
     "end_time": "2020-12-05T11:18:16.374549",
     "exception": false,
     "start_time": "2020-12-05T11:18:16.293970",
     "status": "completed"
    },
    "tags": []
   },
   "source": [
    "We need to watchout for the brackets when combining filters in Dataframes."
   ]
  },
  {
   "cell_type": "code",
   "execution_count": 29,
   "metadata": {
    "papermill": {
     "duration": 0.708331,
     "end_time": "2020-12-05T11:18:17.169439",
     "exception": false,
     "start_time": "2020-12-05T11:18:16.461108",
     "status": "completed"
    },
    "tags": []
   },
   "outputs": [
    {
     "data": {
      "text/html": [
       "<div>\n",
       "<style scoped>\n",
       "    .dataframe tbody tr th:only-of-type {\n",
       "        vertical-align: middle;\n",
       "    }\n",
       "\n",
       "    .dataframe tbody tr th {\n",
       "        vertical-align: top;\n",
       "    }\n",
       "\n",
       "    .dataframe thead th {\n",
       "        text-align: right;\n",
       "    }\n",
       "</style>\n",
       "<table border=\"1\" class=\"dataframe\">\n",
       "  <thead>\n",
       "    <tr style=\"text-align: right;\">\n",
       "      <th></th>\n",
       "      <th>set_num</th>\n",
       "      <th>set_name</th>\n",
       "      <th>theme_id</th>\n",
       "      <th>num_parts</th>\n",
       "      <th>part_num</th>\n",
       "      <th>quantity</th>\n",
       "      <th>part_name</th>\n",
       "      <th>color</th>\n",
       "      <th>part_cat</th>\n",
       "    </tr>\n",
       "  </thead>\n",
       "  <tbody>\n",
       "    <tr>\n",
       "      <th>0</th>\n",
       "      <td>41311-1</td>\n",
       "      <td>Heartlake Pizzeria</td>\n",
       "      <td>494</td>\n",
       "      <td>287</td>\n",
       "      <td>3039</td>\n",
       "      <td>1</td>\n",
       "      <td>Slope 45° 2 x 2</td>\n",
       "      <td>Red</td>\n",
       "      <td>Bricks Sloped</td>\n",
       "    </tr>\n",
       "    <tr>\n",
       "      <th>1</th>\n",
       "      <td>41311-1</td>\n",
       "      <td>Heartlake Pizzeria</td>\n",
       "      <td>494</td>\n",
       "      <td>287</td>\n",
       "      <td>3045</td>\n",
       "      <td>2</td>\n",
       "      <td>Slope 45° 2 x 2 Double Convex</td>\n",
       "      <td>Red</td>\n",
       "      <td>Bricks Sloped</td>\n",
       "    </tr>\n",
       "  </tbody>\n",
       "</table>\n",
       "</div>"
      ],
      "text/plain": [
       "   set_num            set_name  theme_id  num_parts part_num  quantity  \\\n",
       "0  41311-1  Heartlake Pizzeria       494        287     3039         1   \n",
       "1  41311-1  Heartlake Pizzeria       494        287     3045         2   \n",
       "\n",
       "                       part_name color       part_cat  \n",
       "0                Slope 45° 2 x 2   Red  Bricks Sloped  \n",
       "1  Slope 45° 2 x 2 Double Convex   Red  Bricks Sloped  "
      ]
     },
     "execution_count": 29,
     "metadata": {},
     "output_type": "execute_result"
    }
   ],
   "source": [
    "df_missing_parts = df_inventory_list[(df_inventory_list['set_num'] == '41311-1') & \n",
    "                                     (df_inventory_list['part_cat'].str.contains(\"Brick\")) &\n",
    "                                     (df_inventory_list['color'] == 'Red')\n",
    "                                    ].sort_values(by=['color', 'part_name', 'set_num']).reset_index(drop = True)\n",
    "\n",
    "df_missing_parts"
   ]
  },
  {
   "cell_type": "markdown",
   "metadata": {
    "papermill": {
     "duration": 0.079525,
     "end_time": "2020-12-05T11:18:17.331246",
     "exception": false,
     "start_time": "2020-12-05T11:18:17.251721",
     "status": "completed"
    },
    "tags": []
   },
   "source": [
    "<span style=\"color:blue\">*There we go, we are missing one 2x2 brick and tw0 2x2 double convex.*</span>\n",
    "\n",
    "<span style=\"color:green\">*Yup, that's the roof of the fireplace. I knew that before.*</span>\n",
    "\n",
    "<a id =\"agg\"></a>\n",
    "# Conditional Joins and Aggregation *(Almost done!)*\n",
    "\n",
    "Next we search for sets that contain the missing parts. The quantity of the parts in the found sets must be greater or equal the quantity of the missing parts.\n",
    "\n",
    "In SQL it is done with an **conditional join** `il.quantity >= mp.quantity`.\n",
    "\n",
    "```sql\n",
    "sets_with_missing_parts << \n",
    "\n",
    "-- A list of missing parts\n",
    "\n",
    "WITH missing_parts AS (\n",
    "  SELECT il.set_name,\n",
    "         il.part_num, \n",
    "         il.part_name,\n",
    "         il.color,\n",
    "         il.quantity\n",
    "    FROM inventory_list il\n",
    "   WHERE il.set_num = '41311-1'\n",
    "     AND il.part_cat like '%Brick%'\n",
    "     AND il.color = 'Red'\n",
    ")\n",
    "\n",
    "-- Looking for set that contains as much of the missing parts as needed\n",
    "\n",
    "SELECT mp.set_name as searching_for_set,\n",
    "       il.set_num, \n",
    "       il.set_name, \n",
    "       il.part_name,\n",
    "       -- total number of parts per set\n",
    "       il.num_parts,\n",
    "       -- how many of the missing parts were found in the set \n",
    "       COUNT(*) OVER (PARTITION BY il.set_num) AS matches_per_set\n",
    "  FROM inventory_list il\n",
    " INNER JOIN\n",
    "       missing_parts mp\n",
    "    ON (il.part_num = mp.part_num\n",
    "        AND il.color = mp.color\n",
    "        -- searching for a set that contains at least as much parts as there are missing\n",
    "        AND il.quantity >= mp.quantity\n",
    "       )\n",
    " -- don't search in the Pizzeria set\n",
    " WHERE il.set_num <> '41311-1'\n",
    " -- prioritize sets with all the missing parts and as few parts as possible\n",
    " ORDER BY \n",
    "       matches_per_set DESC, \n",
    "       il.num_parts, \n",
    "       il.set_num,\n",
    "       il.part_name\n",
    "LIMIT 16\n",
    "```"
   ]
  },
  {
   "cell_type": "code",
   "execution_count": 30,
   "metadata": {
    "_kg_hide-input": true,
    "_kg_hide-output": true,
    "jupyter": {
     "source_hidden": true
    },
    "papermill": {
     "duration": 4.014044,
     "end_time": "2020-12-05T11:18:21.423788",
     "exception": false,
     "start_time": "2020-12-05T11:18:17.409744",
     "status": "completed"
    },
    "tags": []
   },
   "outputs": [
    {
     "name": "stdout",
     "output_type": "stream",
     "text": [
      " * sqlite:///lego.db\n",
      "Done.\n",
      "Returning data to local variable sets_with_missing_parts\n"
     ]
    }
   ],
   "source": [
    "%%sql sets_with_missing_parts << \n",
    "WITH missing_parts AS (\n",
    "  SELECT il.set_name,\n",
    "         il.part_num, \n",
    "         il.part_name,\n",
    "         il.color,\n",
    "         il.quantity\n",
    "    FROM inventory_list il\n",
    "   WHERE il.set_num = '41311-1'\n",
    "     AND il.part_cat like '%Brick%'\n",
    "     AND il.color = 'Red'\n",
    ")\n",
    "SELECT mp.set_name as searching_for_set,\n",
    "       il.set_num, \n",
    "       il.set_name, \n",
    "       il.part_name,\n",
    "       il.num_parts,\n",
    "       COUNT(*) OVER (PARTITION BY il.set_num) AS matches_per_set\n",
    "  FROM inventory_list il\n",
    " INNER JOIN\n",
    "       missing_parts mp\n",
    "    ON (il.part_num = mp.part_num\n",
    "        AND il.color = mp.color\n",
    "        AND il.quantity >= mp.quantity\n",
    "       )\n",
    " WHERE il.set_num <> '41311-1'\n",
    " ORDER BY \n",
    "       matches_per_set DESC, \n",
    "       il.num_parts, \n",
    "       il.set_num,\n",
    "       il.part_name\n",
    "LIMIT 16;"
   ]
  },
  {
   "cell_type": "markdown",
   "metadata": {
    "papermill": {
     "duration": 0.076719,
     "end_time": "2020-12-05T11:18:21.584205",
     "exception": false,
     "start_time": "2020-12-05T11:18:21.507486",
     "status": "completed"
    },
    "tags": []
   },
   "source": [
    "## Conditional Join\n",
    "\n",
    "There is no intuitive way to do a conditional join on DataFrames. The easiest I've [seen](https://stackoverflow.com/questions/23508351/how-to-do-workaround-a-conditional-join-in-python-pandas) so far is a two step solution.\n",
    "As substitution for the SQL `WITH`-clause we can reuse `df_missing_parts`."
   ]
  },
  {
   "cell_type": "code",
   "execution_count": 31,
   "metadata": {
    "papermill": {
     "duration": 0.261712,
     "end_time": "2020-12-05T11:18:21.922918",
     "exception": false,
     "start_time": "2020-12-05T11:18:21.661206",
     "status": "completed"
    },
    "tags": []
   },
   "outputs": [],
   "source": [
    "# 1. merge on the equal conditions\n",
    "df_sets_with_missing_parts = df_inventory_list.merge(df_missing_parts, how = 'inner', on = ['part_num', 'color'], suffixes = ('_found', '_missing'))\n",
    "# 2. apply filter for the qreater equals condition\n",
    "df_sets_with_missing_parts = df_sets_with_missing_parts[df_sets_with_missing_parts['quantity_found'] >= df_sets_with_missing_parts['quantity_missing']]\n",
    "\n",
    "# select columns\n",
    "cols = ['set_num', 'set_name', 'part_name', 'num_parts']\n",
    "df_sets_with_missing_parts = df_sets_with_missing_parts[['set_name_missing'] + [c + '_found' for c in cols]]\n",
    "df_sets_with_missing_parts.columns = ['searching_for_set'] + cols"
   ]
  },
  {
   "cell_type": "markdown",
   "metadata": {
    "papermill": {
     "duration": 0.07862,
     "end_time": "2020-12-05T11:18:22.079875",
     "exception": false,
     "start_time": "2020-12-05T11:18:22.001255",
     "status": "completed"
    },
    "tags": []
   },
   "source": [
    "## Aggregation\n",
    "\n",
    "In the next step the aggregation of the analytic function \n",
    "```sql\n",
    "COUNT(*) OVER (PARTITION BY il.set_num) matches_per_set\n",
    "```\n",
    "needs to be calculated. Hence the number of not-NaN values will be counted per `SET_NUM` group and assigned to each row in a new column (`matches_per_set`).\n",
    "\n",
    "But before translating the analytic function, let's have a look at a regular aggregation, first. Say, we simply want to count the entries per `set_num` on group level (without assigning the results back to the original group entries) and also sum up all parts of a group. Then the SQL would look something like this:\n",
    "```sql\n",
    "SELECT s.set_num,\n",
    "       COUNT(*) AS matches_per_set\n",
    "       SUM(s.num_parts) AS total_num_parts\n",
    "  FROM ...\n",
    " WHERE ...\n",
    " GROUP BY \n",
    "       s.set_num;\n",
    "```\n",
    "All selected columns must either be aggregated by a function (`COUNT`, `SUM`) or defined as a group (`GROUP BY`).\n",
    "The result is a two column list with the group `set_num` and the aggregations `matches_per_set` and `total_num_part`.\n",
    "\n",
    "Now see how the counting is done with pandas."
   ]
  },
  {
   "cell_type": "code",
   "execution_count": 32,
   "metadata": {
    "papermill": {
     "duration": 0.102684,
     "end_time": "2020-12-05T11:18:22.260004",
     "exception": false,
     "start_time": "2020-12-05T11:18:22.157320",
     "status": "completed"
    },
    "tags": []
   },
   "outputs": [
    {
     "data": {
      "text/html": [
       "<div>\n",
       "<style scoped>\n",
       "    .dataframe tbody tr th:only-of-type {\n",
       "        vertical-align: middle;\n",
       "    }\n",
       "\n",
       "    .dataframe tbody tr th {\n",
       "        vertical-align: top;\n",
       "    }\n",
       "\n",
       "    .dataframe thead th {\n",
       "        text-align: right;\n",
       "    }\n",
       "</style>\n",
       "<table border=\"1\" class=\"dataframe\">\n",
       "  <thead>\n",
       "    <tr style=\"text-align: right;\">\n",
       "      <th></th>\n",
       "      <th>searching_for_set</th>\n",
       "      <th>set_name</th>\n",
       "      <th>part_name</th>\n",
       "      <th>num_parts</th>\n",
       "    </tr>\n",
       "    <tr>\n",
       "      <th>set_num</th>\n",
       "      <th></th>\n",
       "      <th></th>\n",
       "      <th></th>\n",
       "      <th></th>\n",
       "    </tr>\n",
       "  </thead>\n",
       "  <tbody>\n",
       "    <tr>\n",
       "      <th>llca8-1</th>\n",
       "      <td>1</td>\n",
       "      <td>1</td>\n",
       "      <td>1</td>\n",
       "      <td>1</td>\n",
       "    </tr>\n",
       "    <tr>\n",
       "      <th>llca21-1</th>\n",
       "      <td>1</td>\n",
       "      <td>1</td>\n",
       "      <td>1</td>\n",
       "      <td>1</td>\n",
       "    </tr>\n",
       "    <tr>\n",
       "      <th>fruit1-1</th>\n",
       "      <td>1</td>\n",
       "      <td>1</td>\n",
       "      <td>1</td>\n",
       "      <td>1</td>\n",
       "    </tr>\n",
       "    <tr>\n",
       "      <th>MMMB026-1</th>\n",
       "      <td>1</td>\n",
       "      <td>1</td>\n",
       "      <td>1</td>\n",
       "      <td>1</td>\n",
       "    </tr>\n",
       "    <tr>\n",
       "      <th>MMMB003-1</th>\n",
       "      <td>1</td>\n",
       "      <td>1</td>\n",
       "      <td>1</td>\n",
       "      <td>1</td>\n",
       "    </tr>\n",
       "    <tr>\n",
       "      <th>...</th>\n",
       "      <td>...</td>\n",
       "      <td>...</td>\n",
       "      <td>...</td>\n",
       "      <td>...</td>\n",
       "    </tr>\n",
       "    <tr>\n",
       "      <th>10021-1</th>\n",
       "      <td>1</td>\n",
       "      <td>1</td>\n",
       "      <td>1</td>\n",
       "      <td>1</td>\n",
       "    </tr>\n",
       "    <tr>\n",
       "      <th>088-1</th>\n",
       "      <td>1</td>\n",
       "      <td>1</td>\n",
       "      <td>1</td>\n",
       "      <td>1</td>\n",
       "    </tr>\n",
       "    <tr>\n",
       "      <th>080-1</th>\n",
       "      <td>2</td>\n",
       "      <td>2</td>\n",
       "      <td>2</td>\n",
       "      <td>2</td>\n",
       "    </tr>\n",
       "    <tr>\n",
       "      <th>066-1</th>\n",
       "      <td>1</td>\n",
       "      <td>1</td>\n",
       "      <td>1</td>\n",
       "      <td>1</td>\n",
       "    </tr>\n",
       "    <tr>\n",
       "      <th>00-4</th>\n",
       "      <td>1</td>\n",
       "      <td>1</td>\n",
       "      <td>1</td>\n",
       "      <td>1</td>\n",
       "    </tr>\n",
       "  </tbody>\n",
       "</table>\n",
       "<p>468 rows × 4 columns</p>\n",
       "</div>"
      ],
      "text/plain": [
       "           searching_for_set  set_name  part_name  num_parts\n",
       "set_num                                                     \n",
       "llca8-1                    1         1          1          1\n",
       "llca21-1                   1         1          1          1\n",
       "fruit1-1                   1         1          1          1\n",
       "MMMB026-1                  1         1          1          1\n",
       "MMMB003-1                  1         1          1          1\n",
       "...                      ...       ...        ...        ...\n",
       "10021-1                    1         1          1          1\n",
       "088-1                      1         1          1          1\n",
       "080-1                      2         2          2          2\n",
       "066-1                      1         1          1          1\n",
       "00-4                       1         1          1          1\n",
       "\n",
       "[468 rows x 4 columns]"
      ]
     },
     "execution_count": 32,
     "metadata": {},
     "output_type": "execute_result"
    }
   ],
   "source": [
    "df_sets_with_missing_parts.groupby(['set_num']).count()  .sort_values('set_num', ascending = False)\n",
    "\n",
    "# for sum and count:\n",
    "# df_sets_with_missing_parts.groupby(['set_num']).agg(['count', 'sum']) "
   ]
  },
  {
   "cell_type": "markdown",
   "metadata": {
    "papermill": {
     "duration": 0.078005,
     "end_time": "2020-12-05T11:18:22.416461",
     "exception": false,
     "start_time": "2020-12-05T11:18:22.338456",
     "status": "completed"
    },
    "tags": []
   },
   "source": [
    "Wow, that's different! The aggregation function is applied to every column independently and the group is set as row index. \n",
    "But it is also possible to define the aggregation function for each column explicitly like in SQL:"
   ]
  },
  {
   "cell_type": "code",
   "execution_count": 33,
   "metadata": {
    "papermill": {
     "duration": 0.118352,
     "end_time": "2020-12-05T11:18:22.612974",
     "exception": false,
     "start_time": "2020-12-05T11:18:22.494622",
     "status": "completed"
    },
    "tags": []
   },
   "outputs": [
    {
     "data": {
      "text/html": [
       "<div>\n",
       "<style scoped>\n",
       "    .dataframe tbody tr th:only-of-type {\n",
       "        vertical-align: middle;\n",
       "    }\n",
       "\n",
       "    .dataframe tbody tr th {\n",
       "        vertical-align: top;\n",
       "    }\n",
       "\n",
       "    .dataframe thead th {\n",
       "        text-align: right;\n",
       "    }\n",
       "</style>\n",
       "<table border=\"1\" class=\"dataframe\">\n",
       "  <thead>\n",
       "    <tr style=\"text-align: right;\">\n",
       "      <th></th>\n",
       "      <th>set_num</th>\n",
       "      <th>matches_per_set</th>\n",
       "      <th>total_num_parts</th>\n",
       "    </tr>\n",
       "  </thead>\n",
       "  <tbody>\n",
       "    <tr>\n",
       "      <th>0</th>\n",
       "      <td>00-4</td>\n",
       "      <td>1</td>\n",
       "      <td>126</td>\n",
       "    </tr>\n",
       "    <tr>\n",
       "      <th>1</th>\n",
       "      <td>066-1</td>\n",
       "      <td>1</td>\n",
       "      <td>407</td>\n",
       "    </tr>\n",
       "    <tr>\n",
       "      <th>2</th>\n",
       "      <td>080-1</td>\n",
       "      <td>2</td>\n",
       "      <td>1420</td>\n",
       "    </tr>\n",
       "    <tr>\n",
       "      <th>3</th>\n",
       "      <td>088-1</td>\n",
       "      <td>1</td>\n",
       "      <td>615</td>\n",
       "    </tr>\n",
       "    <tr>\n",
       "      <th>4</th>\n",
       "      <td>10021-1</td>\n",
       "      <td>1</td>\n",
       "      <td>974</td>\n",
       "    </tr>\n",
       "    <tr>\n",
       "      <th>...</th>\n",
       "      <td>...</td>\n",
       "      <td>...</td>\n",
       "      <td>...</td>\n",
       "    </tr>\n",
       "    <tr>\n",
       "      <th>463</th>\n",
       "      <td>MMMB003-1</td>\n",
       "      <td>1</td>\n",
       "      <td>15</td>\n",
       "    </tr>\n",
       "    <tr>\n",
       "      <th>464</th>\n",
       "      <td>MMMB026-1</td>\n",
       "      <td>1</td>\n",
       "      <td>43</td>\n",
       "    </tr>\n",
       "    <tr>\n",
       "      <th>465</th>\n",
       "      <td>fruit1-1</td>\n",
       "      <td>1</td>\n",
       "      <td>8</td>\n",
       "    </tr>\n",
       "    <tr>\n",
       "      <th>466</th>\n",
       "      <td>llca21-1</td>\n",
       "      <td>1</td>\n",
       "      <td>42</td>\n",
       "    </tr>\n",
       "    <tr>\n",
       "      <th>467</th>\n",
       "      <td>llca8-1</td>\n",
       "      <td>1</td>\n",
       "      <td>58</td>\n",
       "    </tr>\n",
       "  </tbody>\n",
       "</table>\n",
       "<p>468 rows × 3 columns</p>\n",
       "</div>"
      ],
      "text/plain": [
       "       set_num  matches_per_set  total_num_parts\n",
       "0         00-4                1              126\n",
       "1        066-1                1              407\n",
       "2        080-1                2             1420\n",
       "3        088-1                1              615\n",
       "4      10021-1                1              974\n",
       "..         ...              ...              ...\n",
       "463  MMMB003-1                1               15\n",
       "464  MMMB026-1                1               43\n",
       "465   fruit1-1                1                8\n",
       "466   llca21-1                1               42\n",
       "467    llca8-1                1               58\n",
       "\n",
       "[468 rows x 3 columns]"
      ]
     },
     "execution_count": 33,
     "metadata": {},
     "output_type": "execute_result"
    }
   ],
   "source": [
    "df_sets_with_missing_parts.groupby(['set_num'], as_index = False) \\\n",
    "    .agg(matches_per_set = pd.NamedAgg(column = \"set_num\", aggfunc = \"count\"), \n",
    "         total_num_parts = pd.NamedAgg(column = \"num_parts\", aggfunc = \"sum\"))"
   ]
  },
  {
   "cell_type": "markdown",
   "metadata": {
    "papermill": {
     "duration": 0.078697,
     "end_time": "2020-12-05T11:18:22.770777",
     "exception": false,
     "start_time": "2020-12-05T11:18:22.692080",
     "status": "completed"
    },
    "tags": []
   },
   "source": [
    "This looks more familiar. With the `as_index` argument the group becomes a column (rather than a row index).\n",
    "\n",
    "So, now we return to our initial task translating the `COUNT(*) OVER(PARTITION BY)` clause. One approach could be to join the results of the above aggregated DataFrame with the origanal DataFrame, like\n",
    "```python\n",
    "df_sets_with_missing_parts.merge(my_agg_df, on = 'set_num')\n",
    "```\n",
    "A more common why is to use the `transform()` function:"
   ]
  },
  {
   "cell_type": "code",
   "execution_count": 34,
   "metadata": {
    "papermill": {
     "duration": 0.103025,
     "end_time": "2020-12-05T11:18:22.952887",
     "exception": false,
     "start_time": "2020-12-05T11:18:22.849862",
     "status": "completed"
    },
    "tags": []
   },
   "outputs": [
    {
     "data": {
      "text/html": [
       "<div>\n",
       "<style scoped>\n",
       "    .dataframe tbody tr th:only-of-type {\n",
       "        vertical-align: middle;\n",
       "    }\n",
       "\n",
       "    .dataframe tbody tr th {\n",
       "        vertical-align: top;\n",
       "    }\n",
       "\n",
       "    .dataframe thead th {\n",
       "        text-align: right;\n",
       "    }\n",
       "</style>\n",
       "<table border=\"1\" class=\"dataframe\">\n",
       "  <thead>\n",
       "    <tr style=\"text-align: right;\">\n",
       "      <th></th>\n",
       "      <th>searching_for_set</th>\n",
       "      <th>set_num</th>\n",
       "      <th>set_name</th>\n",
       "      <th>part_name</th>\n",
       "      <th>num_parts</th>\n",
       "      <th>matches_per_set</th>\n",
       "    </tr>\n",
       "  </thead>\n",
       "  <tbody>\n",
       "    <tr>\n",
       "      <th>0</th>\n",
       "      <td>Heartlake Pizzeria</td>\n",
       "      <td>00-4</td>\n",
       "      <td>Weetabix Promotional Windmill</td>\n",
       "      <td>Slope 45° 2 x 2</td>\n",
       "      <td>126</td>\n",
       "      <td>1</td>\n",
       "    </tr>\n",
       "    <tr>\n",
       "      <th>1</th>\n",
       "      <td>Heartlake Pizzeria</td>\n",
       "      <td>066-1</td>\n",
       "      <td>Basic Building Set</td>\n",
       "      <td>Slope 45° 2 x 2</td>\n",
       "      <td>407</td>\n",
       "      <td>1</td>\n",
       "    </tr>\n",
       "    <tr>\n",
       "      <th>2</th>\n",
       "      <td>Heartlake Pizzeria</td>\n",
       "      <td>080-1</td>\n",
       "      <td>Basic Building Set with Train</td>\n",
       "      <td>Slope 45° 2 x 2</td>\n",
       "      <td>710</td>\n",
       "      <td>2</td>\n",
       "    </tr>\n",
       "    <tr>\n",
       "      <th>3</th>\n",
       "      <td>Heartlake Pizzeria</td>\n",
       "      <td>088-1</td>\n",
       "      <td>Super Set</td>\n",
       "      <td>Slope 45° 2 x 2</td>\n",
       "      <td>615</td>\n",
       "      <td>1</td>\n",
       "    </tr>\n",
       "    <tr>\n",
       "      <th>4</th>\n",
       "      <td>Heartlake Pizzeria</td>\n",
       "      <td>10021-1</td>\n",
       "      <td>U.S.S. Constellation</td>\n",
       "      <td>Slope 45° 2 x 2</td>\n",
       "      <td>974</td>\n",
       "      <td>1</td>\n",
       "    </tr>\n",
       "  </tbody>\n",
       "</table>\n",
       "</div>"
      ],
      "text/plain": [
       "    searching_for_set  set_num                       set_name  \\\n",
       "0  Heartlake Pizzeria     00-4  Weetabix Promotional Windmill   \n",
       "1  Heartlake Pizzeria    066-1             Basic Building Set   \n",
       "2  Heartlake Pizzeria    080-1  Basic Building Set with Train   \n",
       "3  Heartlake Pizzeria    088-1                      Super Set   \n",
       "4  Heartlake Pizzeria  10021-1           U.S.S. Constellation   \n",
       "\n",
       "         part_name  num_parts  matches_per_set  \n",
       "0  Slope 45° 2 x 2        126                1  \n",
       "1  Slope 45° 2 x 2        407                1  \n",
       "2  Slope 45° 2 x 2        710                2  \n",
       "3  Slope 45° 2 x 2        615                1  \n",
       "4  Slope 45° 2 x 2        974                1  "
      ]
     },
     "execution_count": 34,
     "metadata": {},
     "output_type": "execute_result"
    }
   ],
   "source": [
    "# add aggregatiom\n",
    "df_sets_with_missing_parts['matches_per_set'] = df_sets_with_missing_parts.groupby(['set_num'])['part_name'].transform('count')\n",
    "\n",
    "df_sets_with_missing_parts.head(5)"
   ]
  },
  {
   "cell_type": "markdown",
   "metadata": {
    "papermill": {
     "duration": 0.082074,
     "end_time": "2020-12-05T11:18:23.120827",
     "exception": false,
     "start_time": "2020-12-05T11:18:23.038753",
     "status": "completed"
    },
    "tags": []
   },
   "source": [
    "Let's elaborate the magic that's happening.\n",
    "```python\n",
    "df_sets_with_missing_parts.groupby(['set_num'])['part_name']\n",
    "```\n",
    "returns a `GroupByDataFrame` which contains the group names (from `set_num`) and all row/column indicies and values related to the groups. Here only one column `['part_name']` is selected. In the next step [`transform` applies](https://github.com/pandas-dev/pandas/blob/v1.1.4/pandas/core/groupby/generic.py#L514) the given function (`count`) to each column individually but only with the values in the current group. Finaly the results are assigned to each row in the group as shown in [Fig. 4](#Fig_4).\n",
    "\n",
    "<a id=\"Fig_4\"></a>\n",
    "\n",
    "![DF](./assets/trnsf.png)\n",
    "\n",
    "Fig. 4: Aggregation with transform\n",
    "\n",
    "Now that we have gathered all the data we arange the results so that they can be compared to the SQL data:"
   ]
  },
  {
   "cell_type": "code",
   "execution_count": 35,
   "metadata": {
    "papermill": {
     "duration": 0.114105,
     "end_time": "2020-12-05T11:18:23.319116",
     "exception": false,
     "start_time": "2020-12-05T11:18:23.205011",
     "status": "completed"
    },
    "tags": []
   },
   "outputs": [
    {
     "data": {
      "text/html": [
       "<div>\n",
       "<style scoped>\n",
       "    .dataframe tbody tr th:only-of-type {\n",
       "        vertical-align: middle;\n",
       "    }\n",
       "\n",
       "    .dataframe tbody tr th {\n",
       "        vertical-align: top;\n",
       "    }\n",
       "\n",
       "    .dataframe thead th {\n",
       "        text-align: right;\n",
       "    }\n",
       "</style>\n",
       "<table border=\"1\" class=\"dataframe\">\n",
       "  <thead>\n",
       "    <tr style=\"text-align: right;\">\n",
       "      <th></th>\n",
       "      <th>searching_for_set</th>\n",
       "      <th>set_num</th>\n",
       "      <th>set_name</th>\n",
       "      <th>part_name</th>\n",
       "      <th>num_parts</th>\n",
       "      <th>matches_per_set</th>\n",
       "    </tr>\n",
       "  </thead>\n",
       "  <tbody>\n",
       "    <tr>\n",
       "      <th>0</th>\n",
       "      <td>Heartlake Pizzeria</td>\n",
       "      <td>199-1</td>\n",
       "      <td>Scooter</td>\n",
       "      <td>Slope 45° 2 x 2</td>\n",
       "      <td>41</td>\n",
       "      <td>2</td>\n",
       "    </tr>\n",
       "    <tr>\n",
       "      <th>1</th>\n",
       "      <td>Heartlake Pizzeria</td>\n",
       "      <td>199-1</td>\n",
       "      <td>Scooter</td>\n",
       "      <td>Slope 45° 2 x 2 Double Convex</td>\n",
       "      <td>41</td>\n",
       "      <td>2</td>\n",
       "    </tr>\n",
       "    <tr>\n",
       "      <th>2</th>\n",
       "      <td>Heartlake Pizzeria</td>\n",
       "      <td>212-2</td>\n",
       "      <td>Scooter</td>\n",
       "      <td>Slope 45° 2 x 2</td>\n",
       "      <td>41</td>\n",
       "      <td>2</td>\n",
       "    </tr>\n",
       "    <tr>\n",
       "      <th>3</th>\n",
       "      <td>Heartlake Pizzeria</td>\n",
       "      <td>212-2</td>\n",
       "      <td>Scooter</td>\n",
       "      <td>Slope 45° 2 x 2 Double Convex</td>\n",
       "      <td>41</td>\n",
       "      <td>2</td>\n",
       "    </tr>\n",
       "    <tr>\n",
       "      <th>4</th>\n",
       "      <td>Heartlake Pizzeria</td>\n",
       "      <td>838-1</td>\n",
       "      <td>Red Roof Bricks Parts Pack, 45 Degree</td>\n",
       "      <td>Slope 45° 2 x 2</td>\n",
       "      <td>58</td>\n",
       "      <td>2</td>\n",
       "    </tr>\n",
       "    <tr>\n",
       "      <th>5</th>\n",
       "      <td>Heartlake Pizzeria</td>\n",
       "      <td>838-1</td>\n",
       "      <td>Red Roof Bricks Parts Pack, 45 Degree</td>\n",
       "      <td>Slope 45° 2 x 2 Double Convex</td>\n",
       "      <td>58</td>\n",
       "      <td>2</td>\n",
       "    </tr>\n",
       "    <tr>\n",
       "      <th>6</th>\n",
       "      <td>Heartlake Pizzeria</td>\n",
       "      <td>5151-1</td>\n",
       "      <td>Roof Bricks, Red, 45 Degrees</td>\n",
       "      <td>Slope 45° 2 x 2</td>\n",
       "      <td>59</td>\n",
       "      <td>2</td>\n",
       "    </tr>\n",
       "    <tr>\n",
       "      <th>7</th>\n",
       "      <td>Heartlake Pizzeria</td>\n",
       "      <td>5151-1</td>\n",
       "      <td>Roof Bricks, Red, 45 Degrees</td>\n",
       "      <td>Slope 45° 2 x 2 Double Convex</td>\n",
       "      <td>59</td>\n",
       "      <td>2</td>\n",
       "    </tr>\n",
       "    <tr>\n",
       "      <th>8</th>\n",
       "      <td>Heartlake Pizzeria</td>\n",
       "      <td>811-1</td>\n",
       "      <td>Red Roof Bricks, Steep Pitch</td>\n",
       "      <td>Slope 45° 2 x 2</td>\n",
       "      <td>59</td>\n",
       "      <td>2</td>\n",
       "    </tr>\n",
       "    <tr>\n",
       "      <th>9</th>\n",
       "      <td>Heartlake Pizzeria</td>\n",
       "      <td>811-1</td>\n",
       "      <td>Red Roof Bricks, Steep Pitch</td>\n",
       "      <td>Slope 45° 2 x 2 Double Convex</td>\n",
       "      <td>59</td>\n",
       "      <td>2</td>\n",
       "    </tr>\n",
       "    <tr>\n",
       "      <th>10</th>\n",
       "      <td>Heartlake Pizzeria</td>\n",
       "      <td>663-1</td>\n",
       "      <td>Hovercraft</td>\n",
       "      <td>Slope 45° 2 x 2</td>\n",
       "      <td>60</td>\n",
       "      <td>2</td>\n",
       "    </tr>\n",
       "    <tr>\n",
       "      <th>11</th>\n",
       "      <td>Heartlake Pizzeria</td>\n",
       "      <td>663-1</td>\n",
       "      <td>Hovercraft</td>\n",
       "      <td>Slope 45° 2 x 2 Double Convex</td>\n",
       "      <td>60</td>\n",
       "      <td>2</td>\n",
       "    </tr>\n",
       "    <tr>\n",
       "      <th>12</th>\n",
       "      <td>Heartlake Pizzeria</td>\n",
       "      <td>336-1</td>\n",
       "      <td>Fire Engine</td>\n",
       "      <td>Slope 45° 2 x 2</td>\n",
       "      <td>76</td>\n",
       "      <td>2</td>\n",
       "    </tr>\n",
       "    <tr>\n",
       "      <th>13</th>\n",
       "      <td>Heartlake Pizzeria</td>\n",
       "      <td>336-1</td>\n",
       "      <td>Fire Engine</td>\n",
       "      <td>Slope 45° 2 x 2 Double Convex</td>\n",
       "      <td>76</td>\n",
       "      <td>2</td>\n",
       "    </tr>\n",
       "    <tr>\n",
       "      <th>14</th>\n",
       "      <td>Heartlake Pizzeria</td>\n",
       "      <td>6896-1</td>\n",
       "      <td>Celestial Forager</td>\n",
       "      <td>Slope 45° 2 x 2</td>\n",
       "      <td>92</td>\n",
       "      <td>2</td>\n",
       "    </tr>\n",
       "    <tr>\n",
       "      <th>15</th>\n",
       "      <td>Heartlake Pizzeria</td>\n",
       "      <td>6896-1</td>\n",
       "      <td>Celestial Forager</td>\n",
       "      <td>Slope 45° 2 x 2 Double Convex</td>\n",
       "      <td>92</td>\n",
       "      <td>2</td>\n",
       "    </tr>\n",
       "  </tbody>\n",
       "</table>\n",
       "</div>"
      ],
      "text/plain": [
       "     searching_for_set set_num                               set_name  \\\n",
       "0   Heartlake Pizzeria   199-1                                Scooter   \n",
       "1   Heartlake Pizzeria   199-1                                Scooter   \n",
       "2   Heartlake Pizzeria   212-2                                Scooter   \n",
       "3   Heartlake Pizzeria   212-2                                Scooter   \n",
       "4   Heartlake Pizzeria   838-1  Red Roof Bricks Parts Pack, 45 Degree   \n",
       "5   Heartlake Pizzeria   838-1  Red Roof Bricks Parts Pack, 45 Degree   \n",
       "6   Heartlake Pizzeria  5151-1           Roof Bricks, Red, 45 Degrees   \n",
       "7   Heartlake Pizzeria  5151-1           Roof Bricks, Red, 45 Degrees   \n",
       "8   Heartlake Pizzeria   811-1           Red Roof Bricks, Steep Pitch   \n",
       "9   Heartlake Pizzeria   811-1           Red Roof Bricks, Steep Pitch   \n",
       "10  Heartlake Pizzeria   663-1                             Hovercraft   \n",
       "11  Heartlake Pizzeria   663-1                             Hovercraft   \n",
       "12  Heartlake Pizzeria   336-1                            Fire Engine   \n",
       "13  Heartlake Pizzeria   336-1                            Fire Engine   \n",
       "14  Heartlake Pizzeria  6896-1                      Celestial Forager   \n",
       "15  Heartlake Pizzeria  6896-1                      Celestial Forager   \n",
       "\n",
       "                        part_name  num_parts  matches_per_set  \n",
       "0                 Slope 45° 2 x 2         41                2  \n",
       "1   Slope 45° 2 x 2 Double Convex         41                2  \n",
       "2                 Slope 45° 2 x 2         41                2  \n",
       "3   Slope 45° 2 x 2 Double Convex         41                2  \n",
       "4                 Slope 45° 2 x 2         58                2  \n",
       "5   Slope 45° 2 x 2 Double Convex         58                2  \n",
       "6                 Slope 45° 2 x 2         59                2  \n",
       "7   Slope 45° 2 x 2 Double Convex         59                2  \n",
       "8                 Slope 45° 2 x 2         59                2  \n",
       "9   Slope 45° 2 x 2 Double Convex         59                2  \n",
       "10                Slope 45° 2 x 2         60                2  \n",
       "11  Slope 45° 2 x 2 Double Convex         60                2  \n",
       "12                Slope 45° 2 x 2         76                2  \n",
       "13  Slope 45° 2 x 2 Double Convex         76                2  \n",
       "14                Slope 45° 2 x 2         92                2  \n",
       "15  Slope 45° 2 x 2 Double Convex         92                2  "
      ]
     },
     "execution_count": 35,
     "metadata": {},
     "output_type": "execute_result"
    }
   ],
   "source": [
    "# sort and pick top 16\n",
    "df_sets_with_missing_parts = df_sets_with_missing_parts.sort_values(['matches_per_set', 'num_parts', 'set_num', 'part_name'], ascending = [False, True, True, True]).reset_index(drop = True).head(16)\n",
    "\n",
    "df_sets_with_missing_parts"
   ]
  },
  {
   "cell_type": "code",
   "execution_count": 36,
   "metadata": {
    "papermill": {
     "duration": 0.099945,
     "end_time": "2020-12-05T11:18:23.504291",
     "exception": false,
     "start_time": "2020-12-05T11:18:23.404346",
     "status": "completed"
    },
    "tags": []
   },
   "outputs": [],
   "source": [
    "# assert equals\n",
    "if not USE_BIGQUERY:\n",
    "    sets_with_missing_parts = sets_with_missing_parts.DataFrame()\n",
    "    \n",
    "pd._testing.assert_frame_equal(sets_with_missing_parts, df_sets_with_missing_parts)"
   ]
  },
  {
   "cell_type": "markdown",
   "metadata": {
    "papermill": {
     "duration": 0.079956,
     "end_time": "2020-12-05T11:18:23.666271",
     "exception": false,
     "start_time": "2020-12-05T11:18:23.586315",
     "status": "completed"
    },
    "tags": []
   },
   "source": [
    "The results are matching!\n",
    "\n",
    "<span style=\"color:blue\">We got it. We can buy the small Fire Engine to fix the roof of the fireplace. Now need for a new Pizzeria. :-)</span>\n",
    "\n",
    "<span style=\"color:green\">(#@§?$!*#) Are you sure your data is usefull for anything?</span>"
   ]
  },
  {
   "cell_type": "markdown",
   "metadata": {
    "papermill": {
     "duration": 0.080661,
     "end_time": "2020-12-05T11:18:23.828443",
     "exception": false,
     "start_time": "2020-12-05T11:18:23.747782",
     "status": "completed"
    },
    "tags": []
   },
   "source": [
    "<a id = \"rec\"></a>\n",
    "# Recursion *(Lost in trees?)*\n",
    "We solved the red brick problem. But since we have the data already open, let's have a closer look at the *Fire Engine*, set number *336-1*.\n",
    "```sql\n",
    "SELECT s.name AS set_name,\n",
    "       s.year,\n",
    "       t.id,\n",
    "       t.name AS theme_name,\n",
    "       t.parent_id\n",
    "  FROM sets s,\n",
    "       themes t\n",
    " WHERE t.id = s.theme_id\n",
    "   AND s.set_num = '336-1';\n",
    "```    "
   ]
  },
  {
   "cell_type": "code",
   "execution_count": 37,
   "metadata": {
    "_kg_hide-input": true,
    "jupyter": {
     "source_hidden": true
    },
    "papermill": {
     "duration": 0.102328,
     "end_time": "2020-12-05T11:18:24.011451",
     "exception": false,
     "start_time": "2020-12-05T11:18:23.909123",
     "status": "completed"
    },
    "tags": []
   },
   "outputs": [
    {
     "name": "stdout",
     "output_type": "stream",
     "text": [
      " * sqlite:///lego.db\n",
      "Done.\n"
     ]
    },
    {
     "data": {
      "text/html": [
       "<table>\n",
       "    <tr>\n",
       "        <th>set_name</th>\n",
       "        <th>year</th>\n",
       "        <th>id</th>\n",
       "        <th>theme_name</th>\n",
       "        <th>parent_id</th>\n",
       "    </tr>\n",
       "    <tr>\n",
       "        <td>Fire Engine</td>\n",
       "        <td>1968</td>\n",
       "        <td>376</td>\n",
       "        <td>Fire</td>\n",
       "        <td>373.0</td>\n",
       "    </tr>\n",
       "</table>"
      ],
      "text/plain": [
       "[('Fire Engine', 1968, 376, 'Fire', 373.0)]"
      ]
     },
     "execution_count": 37,
     "metadata": {},
     "output_type": "execute_result"
    }
   ],
   "source": [
    "%%sql\n",
    "\n",
    "SELECT s.name AS set_name,\n",
    "       s.year,\n",
    "       t.id,\n",
    "       t.name AS theme_name,\n",
    "       t.parent_id\n",
    "  FROM sets s,\n",
    "       themes t\n",
    " WHERE t.id = s.theme_id\n",
    "   AND s.set_num = '336-1';\n",
    "    "
   ]
  },
  {
   "cell_type": "markdown",
   "metadata": {
    "papermill": {
     "duration": 0.083032,
     "end_time": "2020-12-05T11:18:24.180281",
     "exception": false,
     "start_time": "2020-12-05T11:18:24.097249",
     "status": "completed"
    },
    "tags": []
   },
   "source": [
    "The *fire engine* is quiet old (from 1968) and it belongs to the theme *Fire*. \n",
    "The `themes` table also includes as column called `parent_id`. This suggests that `themes` is a hierarchical structure.\n",
    "We can check this with an recursive `WITH`-clause in SQL. (*BQ: recursive WITH is not implemented in BIGQUERY.\n",
    "```sql\n",
    "WITH RECURSIVE hier(name, parent_id, level) AS ( \n",
    "    \n",
    "    -- init recursion\n",
    "    SELECT t.name, \n",
    "           t.parent_id, \n",
    "           0 AS level \n",
    "      FROM themes t \n",
    "     WHERE id = 376\n",
    "    \n",
    "    UNION ALL\n",
    "    \n",
    "    -- recursive call\n",
    "    SELECT t.name, \n",
    "           t.parent_id, \n",
    "           h.level +1 \n",
    "      FROM themes t, \n",
    "           hier h \n",
    "     WHERE t.id = h.parent_id\n",
    "    \n",
    ")\n",
    "SELECT COUNT(1) OVER() - level AS level, \n",
    "       name as theme, \n",
    "       GROUP_CONCAT(name,' --> ') over(order by level desc) path\n",
    "  FROM hier \n",
    " ORDER BY level;\n",
    "```"
   ]
  },
  {
   "cell_type": "code",
   "execution_count": 38,
   "metadata": {
    "_kg_hide-input": true,
    "jupyter": {
     "source_hidden": true
    },
    "papermill": {
     "duration": 0.106034,
     "end_time": "2020-12-05T11:18:24.369999",
     "exception": false,
     "start_time": "2020-12-05T11:18:24.263965",
     "status": "completed"
    },
    "tags": []
   },
   "outputs": [
    {
     "name": "stdout",
     "output_type": "stream",
     "text": [
      " * sqlite:///lego.db\n",
      "Done.\n"
     ]
    },
    {
     "data": {
      "text/html": [
       "<table>\n",
       "    <tr>\n",
       "        <th>level</th>\n",
       "        <th>theme</th>\n",
       "        <th>path</th>\n",
       "    </tr>\n",
       "    <tr>\n",
       "        <td>1</td>\n",
       "        <td>Classic</td>\n",
       "        <td>Classic</td>\n",
       "    </tr>\n",
       "    <tr>\n",
       "        <td>2</td>\n",
       "        <td>Vehicle</td>\n",
       "        <td>Classic --&gt; Vehicle</td>\n",
       "    </tr>\n",
       "    <tr>\n",
       "        <td>3</td>\n",
       "        <td>Fire</td>\n",
       "        <td>Classic --&gt; Vehicle --&gt; Fire</td>\n",
       "    </tr>\n",
       "</table>"
      ],
      "text/plain": [
       "[(1, 'Classic', 'Classic'),\n",
       " (2, 'Vehicle', 'Classic --> Vehicle'),\n",
       " (3, 'Fire', 'Classic --> Vehicle --> Fire')]"
      ]
     },
     "execution_count": 38,
     "metadata": {},
     "output_type": "execute_result"
    }
   ],
   "source": [
    "%%sql\n",
    "WITH RECURSIVE hier(name, parent_id, level) AS ( \n",
    "    \n",
    "    -- init recursion\n",
    "    SELECT t.name, \n",
    "           t.parent_id, \n",
    "           0 AS level \n",
    "      FROM themes t \n",
    "     WHERE id = 376\n",
    "    \n",
    "    UNION ALL\n",
    "    \n",
    "    -- recursive call\n",
    "    SELECT t.name, \n",
    "           t.parent_id, \n",
    "           h.level +1 \n",
    "      FROM themes t, \n",
    "           hier h \n",
    "     WHERE t.id = h.parent_id\n",
    "    \n",
    ")\n",
    "SELECT COUNT(1) OVER() - level AS level, \n",
    "       name as theme, \n",
    "       GROUP_CONCAT(name,' --> ') over(order by level desc) path\n",
    "  FROM hier \n",
    " ORDER BY level;"
   ]
  },
  {
   "cell_type": "markdown",
   "metadata": {
    "papermill": {
     "duration": 0.082621,
     "end_time": "2020-12-05T11:18:24.537995",
     "exception": false,
     "start_time": "2020-12-05T11:18:24.455374",
     "status": "completed"
    },
    "tags": []
   },
   "source": [
    "OK, that looks like a reasonable hierarchie. The `path` column includes the parents and grant parents of a theme.\n",
    "What if we want to reverse the order of the path. Unfortunately `GROUP_CONCAT` in SQLite doesn't allow us to specify a sort order in the aggregation.\n",
    "It's possible to add custom aggregation function in some databases. In SQLite we can compile [application defined function](https://www.sqlite.org/appfunc.html) or in Oracle we can define [customized aggregation function](https://docs.oracle.com/cd/B28359_01/appdev.111/b28425/aggr_functions.htm) even at runtime as types.\n",
    "\n",
    "Quiet some steps need to be taken to make the database use costumized aggregation efficently, so we can use them like regulare aggregation and windowing function. In Oracle for instance we have to define:\n",
    "1. initial values: \n",
    "    ```plsql\n",
    "    total := 0; \n",
    "    n := 0;\n",
    "    ```\n",
    "2. calculation per iteration step: \n",
    "    ```plsql\n",
    "    total := total + this_step_value; \n",
    "    n := n + 1;\n",
    "    ```\n",
    "3. deletion per iteration for windowing: \n",
    "    ```plsql\n",
    "    total := total - removed_step_value; \n",
    "    n := n - 1;\n",
    "    ```\n",
    "4. merging for parallel execution:\n",
    "    ```\n",
    "    total := total_worker1 + total_worker2; \n",
    "    n := n_worker1 + n_worker2; \n",
    "    ```\n",
    "5. termination: \n",
    "    ```plsql\n",
    "    my_avg := total / nullif(n-1, 0)\n",
    "    ```"
   ]
  },
  {
   "cell_type": "markdown",
   "metadata": {
    "papermill": {
     "duration": 0.082961,
     "end_time": "2020-12-05T11:18:24.705397",
     "exception": false,
     "start_time": "2020-12-05T11:18:24.622436",
     "status": "completed"
    },
    "tags": []
   },
   "source": [
    "Now, how are we gonna do this in Pandas? We start by traversing the hierarchie."
   ]
  },
  {
   "cell_type": "code",
   "execution_count": 39,
   "metadata": {
    "papermill": {
     "duration": 0.116513,
     "end_time": "2020-12-05T11:18:24.905164",
     "exception": false,
     "start_time": "2020-12-05T11:18:24.788651",
     "status": "completed"
    },
    "tags": []
   },
   "outputs": [
    {
     "data": {
      "text/html": [
       "<div>\n",
       "<style scoped>\n",
       "    .dataframe tbody tr th:only-of-type {\n",
       "        vertical-align: middle;\n",
       "    }\n",
       "\n",
       "    .dataframe tbody tr th {\n",
       "        vertical-align: top;\n",
       "    }\n",
       "\n",
       "    .dataframe thead th {\n",
       "        text-align: right;\n",
       "    }\n",
       "</style>\n",
       "<table border=\"1\" class=\"dataframe\">\n",
       "  <thead>\n",
       "    <tr style=\"text-align: right;\">\n",
       "      <th></th>\n",
       "      <th>id</th>\n",
       "      <th>name</th>\n",
       "      <th>parent_id</th>\n",
       "      <th>level</th>\n",
       "      <th>grp</th>\n",
       "    </tr>\n",
       "  </thead>\n",
       "  <tbody>\n",
       "    <tr>\n",
       "      <th>375</th>\n",
       "      <td>376</td>\n",
       "      <td>Fire</td>\n",
       "      <td>373.0</td>\n",
       "      <td>0</td>\n",
       "      <td>0</td>\n",
       "    </tr>\n",
       "    <tr>\n",
       "      <th>372</th>\n",
       "      <td>373</td>\n",
       "      <td>Vehicle</td>\n",
       "      <td>365.0</td>\n",
       "      <td>1</td>\n",
       "      <td>0</td>\n",
       "    </tr>\n",
       "    <tr>\n",
       "      <th>364</th>\n",
       "      <td>365</td>\n",
       "      <td>Classic</td>\n",
       "      <td>NaN</td>\n",
       "      <td>2</td>\n",
       "      <td>0</td>\n",
       "    </tr>\n",
       "  </tbody>\n",
       "</table>\n",
       "</div>"
      ],
      "text/plain": [
       "      id     name  parent_id  level  grp\n",
       "375  376     Fire      373.0      0    0\n",
       "372  373  Vehicle      365.0      1    0\n",
       "364  365  Classic        NaN      2    0"
      ]
     },
     "execution_count": 39,
     "metadata": {},
     "output_type": "execute_result"
    }
   ],
   "source": [
    "fire_engine_info = df_themes[df_themes['id'] == 376].copy()\n",
    "fire_engine_info['level'] = 0\n",
    "\n",
    "parent_id = fire_engine_info.parent_id.values[0]\n",
    "\n",
    "\n",
    "lvl = 0\n",
    "while not np.isnan(parent_id) and lvl < 10:\n",
    "    lvl+= 1\n",
    "    new_info = df_themes[df_themes['id'] == parent_id].copy()\n",
    "    new_info['level'] = lvl\n",
    "    parent_id = new_info.parent_id.values[0]\n",
    "    fire_engine_info = fire_engine_info.append(new_info)\n",
    "\n",
    "fire_engine_info['grp']=0\n",
    "fire_engine_info    "
   ]
  },
  {
   "cell_type": "markdown",
   "metadata": {
    "papermill": {
     "duration": 0.084862,
     "end_time": "2020-12-05T11:18:25.074740",
     "exception": false,
     "start_time": "2020-12-05T11:18:24.989878",
     "status": "completed"
    },
    "tags": []
   },
   "source": [
    "On the on hand this is pretty need, since we can do what ever we want in a manually coded loop. On the other hand I doubt that it is very efficent when we have to deal with lots of data. But to be fair, Recursive `WITH` isn't that fast either in SQL.\n",
    "\n",
    "Finaly we consider how to do customized aggregation. We could do it in the loop above or we can rather use the library's `transform` or `apply` functions.\n",
    "\n",
    "We define a custom aggregation function `cat_sorted` and then use the `apply` function like this:"
   ]
  },
  {
   "cell_type": "code",
   "execution_count": 40,
   "metadata": {
    "papermill": {
     "duration": 0.094716,
     "end_time": "2020-12-05T11:18:25.253264",
     "exception": false,
     "start_time": "2020-12-05T11:18:25.158548",
     "status": "completed"
    },
    "tags": []
   },
   "outputs": [],
   "source": [
    "def cat_sorted(ser, df, val_col = None, sort_col = None):\n",
    "    u=' --> '.join(df[df.id.isin(ser)].sort_values(sort_col)[val_col].values)\n",
    "    return [u]"
   ]
  },
  {
   "cell_type": "code",
   "execution_count": 41,
   "metadata": {
    "papermill": {
     "duration": 0.112034,
     "end_time": "2020-12-05T11:18:25.449921",
     "exception": false,
     "start_time": "2020-12-05T11:18:25.337887",
     "status": "completed"
    },
    "tags": []
   },
   "outputs": [
    {
     "data": {
      "text/html": [
       "<div>\n",
       "<style scoped>\n",
       "    .dataframe tbody tr th:only-of-type {\n",
       "        vertical-align: middle;\n",
       "    }\n",
       "\n",
       "    .dataframe tbody tr th {\n",
       "        vertical-align: top;\n",
       "    }\n",
       "\n",
       "    .dataframe thead th {\n",
       "        text-align: right;\n",
       "    }\n",
       "</style>\n",
       "<table border=\"1\" class=\"dataframe\">\n",
       "  <thead>\n",
       "    <tr style=\"text-align: right;\">\n",
       "      <th></th>\n",
       "      <th>id</th>\n",
       "      <th>name</th>\n",
       "      <th>parent_id</th>\n",
       "      <th>level</th>\n",
       "      <th>grp</th>\n",
       "    </tr>\n",
       "  </thead>\n",
       "  <tbody>\n",
       "    <tr>\n",
       "      <th>0</th>\n",
       "      <td>Fire --&gt; Vehicle --&gt; Classic</td>\n",
       "      <td></td>\n",
       "      <td>Vehicle --&gt; Classic</td>\n",
       "      <td></td>\n",
       "      <td></td>\n",
       "    </tr>\n",
       "  </tbody>\n",
       "</table>\n",
       "</div>"
      ],
      "text/plain": [
       "                             id name            parent_id level grp\n",
       "0  Fire --> Vehicle --> Classic       Vehicle --> Classic          "
      ]
     },
     "execution_count": 41,
     "metadata": {},
     "output_type": "execute_result"
    }
   ],
   "source": [
    "fire_engine_info.apply(lambda x: cat_sorted(x, fire_engine_info, 'name', 'level'))"
   ]
  },
  {
   "cell_type": "markdown",
   "metadata": {
    "papermill": {
     "duration": 0.084561,
     "end_time": "2020-12-05T11:18:25.619718",
     "exception": false,
     "start_time": "2020-12-05T11:18:25.535157",
     "status": "completed"
    },
    "tags": []
   },
   "source": [
    "We can also apply rolling or windowing behaviour.\n",
    "> Note that a rolling representation or windowing on string values is not possible because Pandas only allows numeric values for those action."
   ]
  },
  {
   "cell_type": "code",
   "execution_count": 42,
   "metadata": {
    "papermill": {
     "duration": 0.102406,
     "end_time": "2020-12-05T11:18:25.806930",
     "exception": false,
     "start_time": "2020-12-05T11:18:25.704524",
     "status": "completed"
    },
    "tags": []
   },
   "outputs": [
    {
     "data": {
      "text/plain": [
       "375      1.0\n",
       "372     11.0\n",
       "364    111.0\n",
       "Name: level, dtype: float64"
      ]
     },
     "execution_count": 42,
     "metadata": {},
     "output_type": "execute_result"
    }
   ],
   "source": [
    "fire_engine_info.rolling(10,min_periods=1)['level'].apply(lambda x: sum(10**x), raw = False)"
   ]
  },
  {
   "cell_type": "markdown",
   "metadata": {
    "papermill": {
     "duration": 0.085389,
     "end_time": "2020-12-05T11:18:25.978536",
     "exception": false,
     "start_time": "2020-12-05T11:18:25.893147",
     "status": "completed"
    },
    "tags": []
   },
   "source": [
    "Now, we not only understand the numbers on the lego package but also have a better understandig of Pandas.\n",
    "\n",
    "<a id=\"sum\"></a>\n",
    "# Summary *(Got it!)*\n",
    "\n",
    "SQL stays my favourite language to access structured data arranged over many tables. Pandas shines when data already is gathered together and easily accessable (e.g. as csv file).\n",
    "There are alternatives to Pandas to build ml pipelines, such as [Dask](https://docs.dask.org/en/latest/) or [CUDF](https://docs.rapids.ai/api/cudf/stable/). But learning Pandas is a good foundation to learn more of them.\n",
    "\n",
    "<a id = \"res\"></a>\n",
    "# Resources \n",
    "To play with the examples:\n",
    "- Kaggle notebook: https://www.kaggle.com/joatom/a-handful-of-bricks-from-sql-to-pandas\n",
    "- Docker container: https://github.com/joatom/blog-resources/tree/main/handful_bricks\n",
    "\n",
    "<a id = \"ref\"></a>\n",
    "# References\n",
    "- The Lego dataset: https://www.kaggle.com/rtatman/lego-database\n",
    "- Loading datasets from kaggle: https://towardsdatascience.com/how-to-use-kaggle-datasets-in-google-colab-bca5e452a676\n",
    "- Jupyter sql magic: https://towardsdatascience.com/jupyter-magics-with-sql-921370099589\n",
    "- Setting up bigquery: https://cloud.google.com/bigquery/docs/quickstarts/quickstart-client-libraries\n",
    "- Bigquery and Pandas: https://cloud.google.com/bigquery/docs/pandas-gbq-migration"
   ]
  },
  {
   "cell_type": "code",
   "execution_count": null,
   "metadata": {
    "papermill": {
     "duration": 0.087821,
     "end_time": "2020-12-05T11:18:26.154248",
     "exception": false,
     "start_time": "2020-12-05T11:18:26.066427",
     "status": "completed"
    },
    "tags": []
   },
   "outputs": [],
   "source": []
  }
 ],
 "metadata": {
  "kernelspec": {
   "display_name": "Python [conda env:ml]",
   "language": "python",
   "name": "conda-env-ml-py"
  },
  "language_info": {
   "codemirror_mode": {
    "name": "ipython",
    "version": 3
   },
   "file_extension": ".py",
   "mimetype": "text/x-python",
   "name": "python",
   "nbconvert_exporter": "python",
   "pygments_lexer": "ipython3",
   "version": "3.6.12"
  },
  "papermill": {
   "duration": 37.20347,
   "end_time": "2020-12-05T11:18:26.349257",
   "environment_variables": {},
   "exception": null,
   "input_path": "__notebook__.ipynb",
   "output_path": "__notebook__.ipynb",
   "parameters": {},
   "start_time": "2020-12-05T11:17:49.145787",
   "version": "2.1.0"
  }
 },
 "nbformat": 4,
 "nbformat_minor": 4
}
